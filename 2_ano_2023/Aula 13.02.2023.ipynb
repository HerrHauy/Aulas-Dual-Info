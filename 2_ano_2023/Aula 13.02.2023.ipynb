{
 "cells": [
  {
   "cell_type": "markdown",
   "id": "d1d241dc",
   "metadata": {},
   "source": [
    "## Revisão da última aula"
   ]
  },
  {
   "cell_type": "markdown",
   "id": "ce025c13",
   "metadata": {},
   "source": [
    "Calculando a diferença entre função e pontos.\n",
    "\n",
    "Essa distância chamamos de $\\chi^2$ e ela é a soma das distâncias entre ponto e reta $d_i^2=(f(x_i)-y_i)^2$. Vamos supor que temos, no total, $n$ pontos.\n",
    "\n",
    "$$\\chi^2=d_1^2+d_2^2+d_3^2+\\cdots+d_n^2$$\n",
    "\n",
    "$$f(x)=ax+b$$\n",
    "\n",
    "$$\\chi^2=(f(x_1)-y_1)^2+(f(x_2)-y_2)^2+\\cdots$$\n",
    "\n",
    "$$\\chi^2=(ax_1+b-y_1)^2+(ax_2+b-y_2)^2+\\cdots$$\n",
    "\n",
    "$$\\chi^2=a^2 x_1^2 + 2 a b x_1 - 2 a x_1 y_1 + b^2 - 2 b y_1 + y_1^2+\\cdots$$"
   ]
  },
  {
   "cell_type": "markdown",
   "id": "873c4c4e",
   "metadata": {},
   "source": [
    "$$\\chi^2=a^2(x_1^2+x_2^2+\\cdots)+2ab(x_1+x_2+\\cdots)-2a(x_1y_1+x_2y_2+\\cdots)+nb^2-2b(y_1+y_2\\cdots)+(y_1+y_2+\\cdots)$$"
   ]
  },
  {
   "cell_type": "markdown",
   "id": "c9f330cd",
   "metadata": {},
   "source": [
    "Chamo $X_q=x_1^2+x_2^2+\\cdots$, $X=x_1+x_2+\\cdots$, $Y=y_1+y_2+\\cdots$ e $\\mu=x_1y_1+x_2y_2+\\cdots$ "
   ]
  },
  {
   "cell_type": "markdown",
   "id": "326757e1",
   "metadata": {},
   "source": [
    "$$\\chi^2=a^2X_q+2abX-2a\\mu+nb^2-2bY+Y$$"
   ]
  },
  {
   "cell_type": "markdown",
   "id": "07a79689",
   "metadata": {},
   "source": [
    "$$\\frac{\\partial \\chi^2}{\\partial a}=0$$\n",
    "$$\\frac{\\partial \\chi^2}{\\partial b}=0$$"
   ]
  },
  {
   "cell_type": "markdown",
   "id": "51c3ee1d",
   "metadata": {},
   "source": [
    "$$2aX_q+2bX-2\\mu=0$$\n",
    "$$2aX+2nb-2Y=0$$"
   ]
  },
  {
   "cell_type": "markdown",
   "id": "0cfbfb95",
   "metadata": {},
   "source": [
    "$$aX_q+bX-\\mu=0$$\n",
    "$$aX+nb-Y=0$$"
   ]
  },
  {
   "cell_type": "markdown",
   "id": "6d983f18",
   "metadata": {},
   "source": [
    "Podemos isolar $b$ da primeira equação e substituir na segunda:\n",
    "\n",
    "$$b=\\frac{\\mu-aX_q}{X}$$\n",
    "$$aX+n\\frac{\\mu-aX_q}{X}-Y=0$$"
   ]
  },
  {
   "cell_type": "markdown",
   "id": "220dd315",
   "metadata": {},
   "source": [
    "$$\\frac{aX^2+n\\mu-naX_q-YX}{X}=0$$\n",
    "$$a(X^2-nX_q)=YX-n\\mu$$\n",
    "$$a=\\frac{YX-n\\mu}{X^2-nX_q}$$"
   ]
  },
  {
   "cell_type": "markdown",
   "id": "32d51a69",
   "metadata": {},
   "source": [
    "Posso pegar esse valor de $a$ e encontrar uma fórmula para $b$, usando a formula anterior $$aX+nb-Y=0$$.\n",
    "\n",
    "$$b=\\frac{Y-aX}{n}$$"
   ]
  },
  {
   "cell_type": "code",
   "execution_count": 1,
   "id": "f11fc25f",
   "metadata": {},
   "outputs": [],
   "source": [
    "import numpy as np\n",
    "import matplotlib.pyplot as plt"
   ]
  },
  {
   "cell_type": "markdown",
   "id": "4b7952c2",
   "metadata": {},
   "source": [
    "Vamos criar um conjnto de dados aleatórios:"
   ]
  },
  {
   "cell_type": "code",
   "execution_count": 2,
   "id": "e27b17d0",
   "metadata": {},
   "outputs": [],
   "source": [
    "x_train = np.random.randint(1,100, size=(15))\n",
    "y_train = np.random.randint(1,50, size=(15))"
   ]
  },
  {
   "cell_type": "code",
   "execution_count": 4,
   "id": "181ebd98",
   "metadata": {},
   "outputs": [
    {
     "data": {
      "text/plain": [
       "[<matplotlib.lines.Line2D at 0x7f7ebe722a30>]"
      ]
     },
     "execution_count": 4,
     "metadata": {},
     "output_type": "execute_result"
    },
    {
     "data": {
      "image/png": "[encoded data removed]",
      "text/plain": [
       "<Figure size 432x288 with 1 Axes>"
      ]
     },
     "metadata": {
      "needs_background": "light"
     },
     "output_type": "display_data"
    }
   ],
   "source": [
    "plt.plot(x_train,y_train, 'o')"
   ]
  },
  {
   "cell_type": "code",
   "execution_count": 5,
   "id": "a6936d0f",
   "metadata": {},
   "outputs": [],
   "source": [
    "def mmq(ar_x,ar_y):\n",
    "    \n",
    "    n = len(ar_x) #Tamanho do meu conjunto de dados\n",
    "    \n",
    "    if n != len(ar_y):\n",
    "        return print('Dados de treino tem dimensões diferentes!')\n",
    "    \n",
    "    somax = 0\n",
    "    for i in range(0,n):  # soma x_0+x_1+ ...\n",
    "        somax += ar_x[i]\n",
    "        \n",
    "    somay = 0\n",
    "    for i in range(0,n):  # soma y_0+y_1+ ...\n",
    "        somay += ar_y[i]\n",
    "        \n",
    "    somax2 = 0\n",
    "    for i in range(0,n):  # soma x²_0+x²_1+ ...\n",
    "        somax2 += ar_x[i]**2\n",
    "        \n",
    "    somaxy = 0\n",
    "    for i in range(0,n):  # soma x_0y_0+x_1y_1+ ...\n",
    "        somaxy += ar_x[i]*ar_y[i]\n",
    "        \n",
    "    a = (n*somaxy-somay*somax)/(n*somax2-somax**2)\n",
    "    b = (-a*somax2+somaxy)/somax\n",
    "    \n",
    "    return a, b"
   ]
  },
  {
   "cell_type": "code",
   "execution_count": 8,
   "id": "77ab26e0",
   "metadata": {},
   "outputs": [
    {
     "data": {
      "text/plain": [
       "(-0.15693729388597594, 29.805268215141524)"
      ]
     },
     "execution_count": 8,
     "metadata": {},
     "output_type": "execute_result"
    }
   ],
   "source": [
    "mmq(x_train,y_train)"
   ]
  },
  {
   "cell_type": "code",
   "execution_count": 9,
   "id": "d872aceb",
   "metadata": {},
   "outputs": [
    {
     "data": {
      "image/png": "[encoded data removed]",
      "text/plain": [
       "<Figure size 432x288 with 1 Axes>"
      ]
     },
     "metadata": {
      "needs_background": "light"
     },
     "output_type": "display_data"
    }
   ],
   "source": [
    "x_train = np.random.randint(1,100, size=(15))\n",
    "y_train = np.random.randint(1,50, size=(15))\n",
    "\n",
    "a, b = mmq(x_train,y_train)\n",
    "\n",
    "func = []\n",
    "\n",
    "for i in x_train:\n",
    "    func.append(a*i+b)\n",
    "    \n",
    "plt.plot(x_train, y_train, 'o', color='black')\n",
    "plt.plot(x_train, func, '-', color='red')\n",
    "plt.show()"
   ]
  },
  {
   "cell_type": "code",
   "execution_count": 10,
   "id": "f8bf8426",
   "metadata": {},
   "outputs": [],
   "source": [
    "def mmq_plot(ar_x,ar_y):\n",
    "    \n",
    "    a, b = mmq(ar_x,ar_y)\n",
    "\n",
    "    func = []\n",
    "\n",
    "    for i in ar_x:\n",
    "        func.append(a*i+b)\n",
    "\n",
    "    plt.plot(ar_x, ar_y, 'o', color='black')\n",
    "    plt.plot(ar_x, func, '-', color='red')\n",
    "    plt.show()\n",
    "    \n",
    "    print(f'a = {a}')\n",
    "    print(f'b = {b}')"
   ]
  },
  {
   "cell_type": "code",
   "execution_count": 11,
   "id": "e926c576",
   "metadata": {},
   "outputs": [
    {
     "data": {
      "image/png": "[encoded data removed]",
      "text/plain": [
       "<Figure size 432x288 with 1 Axes>"
      ]
     },
     "metadata": {
      "needs_background": "light"
     },
     "output_type": "display_data"
    },
    {
     "name": "stdout",
     "output_type": "stream",
     "text": [
      "a = 0.05584518712884961\n",
      "b = 18.93769852230355\n"
     ]
    }
   ],
   "source": [
    "mmq_plot(x_train,y_train)"
   ]
  },
  {
   "cell_type": "code",
   "execution_count": 14,
   "id": "92ec597e",
   "metadata": {},
   "outputs": [
    {
     "data": {
      "image/png": "[encoded data removed]",
      "text/plain": [
       "<Figure size 432x288 with 1 Axes>"
      ]
     },
     "metadata": {
      "needs_background": "light"
     },
     "output_type": "display_data"
    },
    {
     "name": "stdout",
     "output_type": "stream",
     "text": [
      "a = 2.0\n",
      "b = 0.2\n"
     ]
    }
   ],
   "source": [
    "mmq_plot([1,2,3,4,5],[2,5,6,7,11])"
   ]
  },
  {
   "cell_type": "code",
   "execution_count": null,
   "id": "546cbf1a",
   "metadata": {},
   "outputs": [],
   "source": []
  }
 ],
 "metadata": {
  "kernelspec": {
   "display_name": "Python 3 (ipykernel)",
   "language": "python",
   "name": "python3"
  },
  "language_info": {
   "codemirror_mode": {
    "name": "ipython",
    "version": 3
   },
   "file_extension": ".py",
   "mimetype": "text/x-python",
   "name": "python",
   "nbconvert_exporter": "python",
   "pygments_lexer": "ipython3",
   "version": "3.9.12"
  }
 },
 "nbformat": 4,
 "nbformat_minor": 5
}
