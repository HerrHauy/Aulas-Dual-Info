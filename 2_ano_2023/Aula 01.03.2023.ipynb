{
 "cells": [
  {
   "cell_type": "code",
   "execution_count": 153,
   "id": "bd7ab4b4",
   "metadata": {},
   "outputs": [],
   "source": [
    "import numpy as np\n",
    "import matplotlib.pyplot as plt\n",
    "import pandas as pd"
   ]
  },
  {
   "cell_type": "code",
   "execution_count": 157,
   "id": "ac64d9be",
   "metadata": {},
   "outputs": [],
   "source": [
    "data = pd.read_csv('data.txt', sep=',', header=None)\n",
    "data.columns = ['ftq', 'room', 'price']"
   ]
  },
  {
   "cell_type": "code",
   "execution_count": 162,
   "id": "47a4d004",
   "metadata": {},
   "outputs": [],
   "source": [
    "data2 = pd.read_csv('data2.txt', sep=',', header=None)\n",
    "data2.columns = ['ftq', 'room', 'floor', 'age', 'price']"
   ]
  },
  {
   "cell_type": "code",
   "execution_count": 163,
   "id": "a860a435",
   "metadata": {},
   "outputs": [
    {
     "data": {
      "text/html": [
       "<div>\n",
       "<style scoped>\n",
       "    .dataframe tbody tr th:only-of-type {\n",
       "        vertical-align: middle;\n",
       "    }\n",
       "\n",
       "    .dataframe tbody tr th {\n",
       "        vertical-align: top;\n",
       "    }\n",
       "\n",
       "    .dataframe thead th {\n",
       "        text-align: right;\n",
       "    }\n",
       "</style>\n",
       "<table border=\"1\" class=\"dataframe\">\n",
       "  <thead>\n",
       "    <tr style=\"text-align: right;\">\n",
       "      <th></th>\n",
       "      <th>ftq</th>\n",
       "      <th>room</th>\n",
       "      <th>floor</th>\n",
       "      <th>age</th>\n",
       "      <th>price</th>\n",
       "    </tr>\n",
       "  </thead>\n",
       "  <tbody>\n",
       "    <tr>\n",
       "      <th>0</th>\n",
       "      <td>952.0</td>\n",
       "      <td>2.0</td>\n",
       "      <td>1.0</td>\n",
       "      <td>65.0</td>\n",
       "      <td>271.5</td>\n",
       "    </tr>\n",
       "    <tr>\n",
       "      <th>1</th>\n",
       "      <td>1244.0</td>\n",
       "      <td>3.0</td>\n",
       "      <td>1.0</td>\n",
       "      <td>64.0</td>\n",
       "      <td>300.0</td>\n",
       "    </tr>\n",
       "    <tr>\n",
       "      <th>2</th>\n",
       "      <td>1947.0</td>\n",
       "      <td>3.0</td>\n",
       "      <td>2.0</td>\n",
       "      <td>17.0</td>\n",
       "      <td>509.8</td>\n",
       "    </tr>\n",
       "    <tr>\n",
       "      <th>3</th>\n",
       "      <td>1725.0</td>\n",
       "      <td>3.0</td>\n",
       "      <td>2.0</td>\n",
       "      <td>42.0</td>\n",
       "      <td>394.0</td>\n",
       "    </tr>\n",
       "    <tr>\n",
       "      <th>4</th>\n",
       "      <td>1959.0</td>\n",
       "      <td>3.0</td>\n",
       "      <td>2.0</td>\n",
       "      <td>15.0</td>\n",
       "      <td>540.0</td>\n",
       "    </tr>\n",
       "    <tr>\n",
       "      <th>...</th>\n",
       "      <td>...</td>\n",
       "      <td>...</td>\n",
       "      <td>...</td>\n",
       "      <td>...</td>\n",
       "      <td>...</td>\n",
       "    </tr>\n",
       "    <tr>\n",
       "      <th>95</th>\n",
       "      <td>1224.0</td>\n",
       "      <td>2.0</td>\n",
       "      <td>2.0</td>\n",
       "      <td>12.0</td>\n",
       "      <td>329.0</td>\n",
       "    </tr>\n",
       "    <tr>\n",
       "      <th>96</th>\n",
       "      <td>1432.0</td>\n",
       "      <td>2.0</td>\n",
       "      <td>1.0</td>\n",
       "      <td>43.0</td>\n",
       "      <td>388.0</td>\n",
       "    </tr>\n",
       "    <tr>\n",
       "      <th>97</th>\n",
       "      <td>1660.0</td>\n",
       "      <td>3.0</td>\n",
       "      <td>2.0</td>\n",
       "      <td>19.0</td>\n",
       "      <td>390.0</td>\n",
       "    </tr>\n",
       "    <tr>\n",
       "      <th>98</th>\n",
       "      <td>1212.0</td>\n",
       "      <td>3.0</td>\n",
       "      <td>1.0</td>\n",
       "      <td>20.0</td>\n",
       "      <td>356.0</td>\n",
       "    </tr>\n",
       "    <tr>\n",
       "      <th>99</th>\n",
       "      <td>1050.0</td>\n",
       "      <td>2.0</td>\n",
       "      <td>1.0</td>\n",
       "      <td>65.0</td>\n",
       "      <td>257.8</td>\n",
       "    </tr>\n",
       "  </tbody>\n",
       "</table>\n",
       "<p>100 rows × 5 columns</p>\n",
       "</div>"
      ],
      "text/plain": [
       "       ftq  room  floor   age  price\n",
       "0    952.0   2.0    1.0  65.0  271.5\n",
       "1   1244.0   3.0    1.0  64.0  300.0\n",
       "2   1947.0   3.0    2.0  17.0  509.8\n",
       "3   1725.0   3.0    2.0  42.0  394.0\n",
       "4   1959.0   3.0    2.0  15.0  540.0\n",
       "..     ...   ...    ...   ...    ...\n",
       "95  1224.0   2.0    2.0  12.0  329.0\n",
       "96  1432.0   2.0    1.0  43.0  388.0\n",
       "97  1660.0   3.0    2.0  19.0  390.0\n",
       "98  1212.0   3.0    1.0  20.0  356.0\n",
       "99  1050.0   2.0    1.0  65.0  257.8\n",
       "\n",
       "[100 rows x 5 columns]"
      ]
     },
     "execution_count": 163,
     "metadata": {},
     "output_type": "execute_result"
    }
   ],
   "source": [
    "data2"
   ]
  },
  {
   "cell_type": "code",
   "execution_count": 9,
   "id": "c91ae463",
   "metadata": {},
   "outputs": [
    {
     "data": {
      "text/html": [
       "<div>\n",
       "<style scoped>\n",
       "    .dataframe tbody tr th:only-of-type {\n",
       "        vertical-align: middle;\n",
       "    }\n",
       "\n",
       "    .dataframe tbody tr th {\n",
       "        vertical-align: top;\n",
       "    }\n",
       "\n",
       "    .dataframe thead th {\n",
       "        text-align: right;\n",
       "    }\n",
       "</style>\n",
       "<table border=\"1\" class=\"dataframe\">\n",
       "  <thead>\n",
       "    <tr style=\"text-align: right;\">\n",
       "      <th></th>\n",
       "      <th>ftq</th>\n",
       "      <th>room</th>\n",
       "      <th>price</th>\n",
       "    </tr>\n",
       "  </thead>\n",
       "  <tbody>\n",
       "    <tr>\n",
       "      <th>0</th>\n",
       "      <td>2104</td>\n",
       "      <td>3</td>\n",
       "      <td>399900</td>\n",
       "    </tr>\n",
       "    <tr>\n",
       "      <th>1</th>\n",
       "      <td>1600</td>\n",
       "      <td>3</td>\n",
       "      <td>329900</td>\n",
       "    </tr>\n",
       "    <tr>\n",
       "      <th>2</th>\n",
       "      <td>2400</td>\n",
       "      <td>3</td>\n",
       "      <td>369000</td>\n",
       "    </tr>\n",
       "    <tr>\n",
       "      <th>3</th>\n",
       "      <td>1416</td>\n",
       "      <td>2</td>\n",
       "      <td>232000</td>\n",
       "    </tr>\n",
       "    <tr>\n",
       "      <th>4</th>\n",
       "      <td>3000</td>\n",
       "      <td>4</td>\n",
       "      <td>539900</td>\n",
       "    </tr>\n",
       "  </tbody>\n",
       "</table>\n",
       "</div>"
      ],
      "text/plain": [
       "    ftq  room   price\n",
       "0  2104     3  399900\n",
       "1  1600     3  329900\n",
       "2  2400     3  369000\n",
       "3  1416     2  232000\n",
       "4  3000     4  539900"
      ]
     },
     "execution_count": 9,
     "metadata": {},
     "output_type": "execute_result"
    }
   ],
   "source": [
    "data.head()"
   ]
  },
  {
   "cell_type": "code",
   "execution_count": 10,
   "id": "1f3c1b2b",
   "metadata": {},
   "outputs": [],
   "source": [
    "def linalg_solve(A,B):\n",
    "    return np.dot(np.linalg.inv(A),B)"
   ]
  },
  {
   "cell_type": "code",
   "execution_count": 12,
   "id": "a776fb7f",
   "metadata": {},
   "outputs": [],
   "source": [
    "A = np.matrix([[2,1,-1],[1,3,2],[3,-2,1]])\n",
    "B = np.matrix([[3],[4],[-5]])"
   ]
  },
  {
   "cell_type": "code",
   "execution_count": 13,
   "id": "cccc367b",
   "metadata": {},
   "outputs": [
    {
     "data": {
      "text/plain": [
       "matrix([[ 3.05311332e-16],\n",
       "        [ 2.00000000e+00],\n",
       "        [-1.00000000e+00]])"
      ]
     },
     "execution_count": 13,
     "metadata": {},
     "output_type": "execute_result"
    }
   ],
   "source": [
    "linalg_solve(A,B)"
   ]
  },
  {
   "cell_type": "code",
   "execution_count": 19,
   "id": "b7cfb979",
   "metadata": {},
   "outputs": [
    {
     "data": {
      "text/html": [
       "<div>\n",
       "<style scoped>\n",
       "    .dataframe tbody tr th:only-of-type {\n",
       "        vertical-align: middle;\n",
       "    }\n",
       "\n",
       "    .dataframe tbody tr th {\n",
       "        vertical-align: top;\n",
       "    }\n",
       "\n",
       "    .dataframe thead th {\n",
       "        text-align: right;\n",
       "    }\n",
       "</style>\n",
       "<table border=\"1\" class=\"dataframe\">\n",
       "  <thead>\n",
       "    <tr style=\"text-align: right;\">\n",
       "      <th></th>\n",
       "      <th>ftq</th>\n",
       "      <th>room</th>\n",
       "    </tr>\n",
       "  </thead>\n",
       "  <tbody>\n",
       "    <tr>\n",
       "      <th>0</th>\n",
       "      <td>2104</td>\n",
       "      <td>3</td>\n",
       "    </tr>\n",
       "    <tr>\n",
       "      <th>1</th>\n",
       "      <td>1600</td>\n",
       "      <td>3</td>\n",
       "    </tr>\n",
       "    <tr>\n",
       "      <th>2</th>\n",
       "      <td>2400</td>\n",
       "      <td>3</td>\n",
       "    </tr>\n",
       "    <tr>\n",
       "      <th>3</th>\n",
       "      <td>1416</td>\n",
       "      <td>2</td>\n",
       "    </tr>\n",
       "    <tr>\n",
       "      <th>4</th>\n",
       "      <td>3000</td>\n",
       "      <td>4</td>\n",
       "    </tr>\n",
       "  </tbody>\n",
       "</table>\n",
       "</div>"
      ],
      "text/plain": [
       "    ftq  room\n",
       "0  2104     3\n",
       "1  1600     3\n",
       "2  2400     3\n",
       "3  1416     2\n",
       "4  3000     4"
      ]
     },
     "execution_count": 19,
     "metadata": {},
     "output_type": "execute_result"
    }
   ],
   "source": [
    "data[['ftq','room']].head()"
   ]
  },
  {
   "cell_type": "code",
   "execution_count": 22,
   "id": "e85d67ae",
   "metadata": {},
   "outputs": [
    {
     "data": {
      "text/plain": [
       "0    399900\n",
       "1    329900\n",
       "2    369000\n",
       "3    232000\n",
       "4    539900\n",
       "Name: price, dtype: int64"
      ]
     },
     "execution_count": 22,
     "metadata": {},
     "output_type": "execute_result"
    }
   ],
   "source": [
    "data.price.head()"
   ]
  },
  {
   "cell_type": "code",
   "execution_count": 24,
   "id": "0f7f58af",
   "metadata": {},
   "outputs": [
    {
     "data": {
      "text/plain": [
       "15999395"
      ]
     },
     "execution_count": 24,
     "metadata": {},
     "output_type": "execute_result"
    }
   ],
   "source": [
    "data.price.sum()"
   ]
  },
  {
   "cell_type": "code",
   "execution_count": 32,
   "id": "740c3071",
   "metadata": {},
   "outputs": [
    {
     "data": {
      "text/plain": [
       "ftq     94032\n",
       "room      149\n",
       "dtype: int64"
      ]
     },
     "execution_count": 32,
     "metadata": {},
     "output_type": "execute_result"
    }
   ],
   "source": [
    "data[['ftq','room']].sum()"
   ]
  },
  {
   "cell_type": "code",
   "execution_count": 46,
   "id": "edb2a3e7",
   "metadata": {},
   "outputs": [
    {
     "data": {
      "text/plain": [
       "0     2104\n",
       "1     1600\n",
       "2     2400\n",
       "3     1416\n",
       "4     3000\n",
       "5     1985\n",
       "6     1534\n",
       "7     1427\n",
       "8     1380\n",
       "9     1494\n",
       "10    1940\n",
       "11    2000\n",
       "12    1890\n",
       "13    4478\n",
       "14    1268\n",
       "15    2300\n",
       "16    1320\n",
       "17    1236\n",
       "18    2609\n",
       "19    3031\n",
       "20    1767\n",
       "21    1888\n",
       "22    1604\n",
       "23    1962\n",
       "24    3890\n",
       "25    1100\n",
       "26    1458\n",
       "27    2526\n",
       "28    2200\n",
       "29    2637\n",
       "30    1839\n",
       "31    1000\n",
       "32    2040\n",
       "33    3137\n",
       "34    1811\n",
       "35    1437\n",
       "36    1239\n",
       "37    2132\n",
       "38    4215\n",
       "39    2162\n",
       "40    1664\n",
       "41    2238\n",
       "42    2567\n",
       "43    1200\n",
       "44     852\n",
       "45    1852\n",
       "46    1203\n",
       "Name: ftq, dtype: int64"
      ]
     },
     "execution_count": 46,
     "metadata": {},
     "output_type": "execute_result"
    }
   ],
   "source": [
    "data[['ftq','room']]['ftq']"
   ]
  },
  {
   "cell_type": "code",
   "execution_count": 47,
   "id": "138e283c",
   "metadata": {},
   "outputs": [
    {
     "data": {
      "text/plain": [
       "217179406"
      ]
     },
     "execution_count": 47,
     "metadata": {},
     "output_type": "execute_result"
    }
   ],
   "source": [
    "np.dot(data[['ftq','room']]['ftq'],data[['ftq','room']]['ftq'])"
   ]
  },
  {
   "cell_type": "code",
   "execution_count": 48,
   "id": "65a466e8",
   "metadata": {},
   "outputs": [
    {
     "data": {
      "text/plain": [
       "47"
      ]
     },
     "execution_count": 48,
     "metadata": {},
     "output_type": "execute_result"
    }
   ],
   "source": [
    "len(data[['ftq','room']]['ftq'])"
   ]
  },
  {
   "cell_type": "code",
   "execution_count": 185,
   "id": "2c57851d",
   "metadata": {},
   "outputs": [],
   "source": [
    "def ajuste_mult(x_treino1,x_treino2,y_treino):\n",
    "    \n",
    "    sx1  = x_treino1.sum()\n",
    "    sx2  = x_treino2.sum()\n",
    "    sy   = y_treino.sum()\n",
    "    sx1x2= np.dot(x_treino1,x_treino2)\n",
    "    sx1x1= np.dot(x_treino1,x_treino1)\n",
    "    sx2x2= np.dot(x_treino2,x_treino2)\n",
    "    syx1 = np.dot(y_treino,x_treino1)\n",
    "    syx2 = np.dot(y_treino,x_treino2)\n",
    "    N    = len(y_treino)\n",
    "    \n",
    "    A = ([[sx1x1,sx1x2,sx1],[sx1x2,sx2x2,sx2],[sx1,sx2,N]])\n",
    "    B = ([syx1,syx2,sy])\n",
    "    \n",
    "    \n",
    "    return linalg_solve(A,B)"
   ]
  },
  {
   "cell_type": "code",
   "execution_count": 187,
   "id": "1caa2910",
   "metadata": {
    "scrolled": true
   },
   "outputs": [
    {
     "data": {
      "text/plain": [
       "array([  139.21067402, -8738.01911233, 89597.9095428 ])"
      ]
     },
     "execution_count": 187,
     "metadata": {},
     "output_type": "execute_result"
    }
   ],
   "source": [
    "ajuste_mult(data.ftq,data.room,data.price)"
   ]
  },
  {
   "cell_type": "code",
   "execution_count": 180,
   "id": "0322a13e",
   "metadata": {},
   "outputs": [],
   "source": [
    "def prev(x_treino1,x_treino2,y_treino,x1 = 'ftq',x2 = 'room'):\n",
    "    a1 = float(ajuste_mult(x_treino1,x_treino2,y_treino)[0])\n",
    "    a2 = float(ajuste_mult(x_treino1,x_treino2,y_treino)[1])\n",
    "    b = float(ajuste_mult(x_treino1,x_treino2,y_treino)[2])\n",
    "\n",
    "    \n",
    "    return a1*x1 + a2*x2 + b"
   ]
  },
  {
   "cell_type": "code",
   "execution_count": 186,
   "id": "a38ef036",
   "metadata": {},
   "outputs": [
    {
     "data": {
      "text/plain": [
       "89597.90954279806"
      ]
     },
     "execution_count": 186,
     "metadata": {},
     "output_type": "execute_result"
    }
   ],
   "source": [
    "prev(data.ftq,data.room,data.price,'ftq'==1000,'room'==2)"
   ]
  },
  {
   "cell_type": "code",
   "execution_count": 193,
   "id": "5a0b2f13",
   "metadata": {},
   "outputs": [],
   "source": [
    "a1 = float(ajuste_mult(data.ftq,data.room,data.price)[0])\n",
    "a2 = float(ajuste_mult(data.ftq,data.room,data.price)[1])\n",
    "b = float(ajuste_mult(data.ftq,data.room,data.price)[2])"
   ]
  },
  {
   "cell_type": "code",
   "execution_count": 210,
   "id": "512a9103",
   "metadata": {},
   "outputs": [
    {
     "data": {
      "text/plain": [
       "(0.0, 450000.0)"
      ]
     },
     "execution_count": 210,
     "metadata": {},
     "output_type": "execute_result"
    },
    {
     "data": {
      "image/png": "[encoded data removed]",
      "text/plain": [
       "<Figure size 432x288 with 1 Axes>"
      ]
     },
     "metadata": {
      "needs_background": "light"
     },
     "output_type": "display_data"
    }
   ],
   "source": [
    "previstos = []\n",
    "\n",
    "for i in range(0,len(data.room)):\n",
    "    previstos.append(data.ftq[i]*a1 + data.room[i]*a2 + b)\n",
    "\n",
    "\n",
    "plt.plot(data.ftq,data.price,'o')\n",
    "plt.plot(data.ftq,previstos,'o')\n",
    "plt.ylim(0,450000)"
   ]
  },
  {
   "cell_type": "code",
   "execution_count": 211,
   "id": "12442b25",
   "metadata": {},
   "outputs": [
    {
     "data": {
      "text/plain": [
       "(0.0, 450000.0)"
      ]
     },
     "execution_count": 211,
     "metadata": {},
     "output_type": "execute_result"
    },
    {
     "data": {
      "image/png": "[encoded data removed]",
      "text/plain": [
       "<Figure size 432x288 with 1 Axes>"
      ]
     },
     "metadata": {
      "needs_background": "light"
     },
     "output_type": "display_data"
    }
   ],
   "source": [
    "previstos = []\n",
    "\n",
    "for i in range(0,len(data.room)):\n",
    "    previstos.append(data.ftq[i]*a1 + data.room[i]*a2 + b)\n",
    "\n",
    "\n",
    "plt.plot(data.room,data.price,'o')\n",
    "plt.plot(data.room,previstos,'o')\n",
    "plt.ylim(0,450000)"
   ]
  },
  {
   "cell_type": "code",
   "execution_count": 218,
   "id": "c6273aa4",
   "metadata": {},
   "outputs": [],
   "source": [
    "erro = np.absolute(data.price-previstos)/data.price"
   ]
  },
  {
   "cell_type": "code",
   "execution_count": 219,
   "id": "9740be76",
   "metadata": {},
   "outputs": [
    {
     "data": {
      "text/plain": [
       "0     0.109069\n",
       "1     0.132704\n",
       "2     0.077207\n",
       "3     0.160535\n",
       "4     0.125249\n",
       "5     0.103631\n",
       "6     0.120568\n",
       "7     0.316778\n",
       "8     0.205163\n",
       "9     0.119029\n",
       "10    0.352983\n",
       "11    0.014971\n",
       "12    0.010627\n",
       "13    0.043730\n",
       "14    0.076941\n",
       "15    0.166858\n",
       "16    0.146782\n",
       "17    0.177830\n",
       "18    0.164304\n",
       "19    0.204352\n",
       "20    0.223286\n",
       "21    0.313536\n",
       "22    0.180230\n",
       "23    0.261167\n",
       "24    0.054040\n",
       "25    0.133591\n",
       "26    0.426581\n",
       "27    0.115075\n",
       "28    0.221795\n",
       "29    0.435420\n",
       "30    0.062217\n",
       "31    0.295295\n",
       "32    0.075375\n",
       "33    0.137631\n",
       "34    0.072950\n",
       "35    0.054140\n",
       "36    0.025950\n",
       "37    0.018675\n",
       "38    0.168340\n",
       "39    0.239092\n",
       "40    0.175662\n",
       "41    0.136518\n",
       "42    0.312101\n",
       "43    0.229309\n",
       "44    0.060197\n",
       "45    0.041894\n",
       "46    0.036099\n",
       "Name: price, dtype: float64"
      ]
     },
     "execution_count": 219,
     "metadata": {},
     "output_type": "execute_result"
    }
   ],
   "source": [
    "erro"
   ]
  },
  {
   "cell_type": "code",
   "execution_count": 220,
   "id": "308e958d",
   "metadata": {},
   "outputs": [
    {
     "data": {
      "text/plain": [
       "0.15607399762704716"
      ]
     },
     "execution_count": 220,
     "metadata": {},
     "output_type": "execute_result"
    }
   ],
   "source": [
    "np.mean(erro)"
   ]
  },
  {
   "cell_type": "code",
   "execution_count": null,
   "id": "92744211",
   "metadata": {},
   "outputs": [],
   "source": []
  },
  {
   "cell_type": "code",
   "execution_count": null,
   "id": "285d5e4e",
   "metadata": {},
   "outputs": [],
   "source": []
  }
 ],
 "metadata": {
  "kernelspec": {
   "display_name": "Python 3 (ipykernel)",
   "language": "python",
   "name": "python3"
  },
  "language_info": {
   "codemirror_mode": {
    "name": "ipython",
    "version": 3
   },
   "file_extension": ".py",
   "mimetype": "text/x-python",
   "name": "python",
   "nbconvert_exporter": "python",
   "pygments_lexer": "ipython3",
   "version": "3.9.12"
  }
 },
 "nbformat": 4,
 "nbformat_minor": 5
}
