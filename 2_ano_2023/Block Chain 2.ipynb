{
 "cells": [
  {
   "cell_type": "markdown",
   "id": "aea660ef",
   "metadata": {},
   "source": [
    "Uma versão mais completa do blockchain, com possibilidade de PoW e mineração.\n",
    "\n",
    "Vamos começar criando uma classe pro novo blockchain"
   ]
  },
  {
   "cell_type": "code",
   "execution_count": 1,
   "id": "db5af757",
   "metadata": {},
   "outputs": [],
   "source": [
    "from hashlib import sha256\n",
    "import json"
   ]
  },
  {
   "cell_type": "code",
   "execution_count": 3,
   "id": "3cc9f852",
   "metadata": {},
   "outputs": [],
   "source": [
    "class Block:\n",
    "    \n",
    "    def __init__(self, index, transactions, timestamp, previous_hash, nonce=0):\n",
    "        \n",
    "        self.index = index\n",
    "        self.transactions = transactions\n",
    "        self.timestamp = timestamp\n",
    "        self.previous_hash = previous_hash\n",
    "        self.nonce = nonce\n",
    "        \n",
    "    def compute_hash(self):\n",
    "        block_string = json.dumps(self.__dict__, sort_keys=True)\n",
    "        return sha256(block_string.encode()).hexdigest()"
   ]
  },
  {
   "cell_type": "markdown",
   "id": "e10aca63",
   "metadata": {},
   "source": [
    "JSON (JavaScript Object Notation) é um formato popular de representação de dados.\n",
    "\n",
    "O comando json.dumps() converte um objeto em Python para uma string.\n",
    "\n",
    "Se sort_keys (padrão False) for true o output do dicionário será organizado por key."
   ]
  },
  {
   "cell_type": "markdown",
   "id": "3cd1a71c",
   "metadata": {},
   "source": [
    "Precisamos criar a cadeia de blocos que será o block chain."
   ]
  },
  {
   "cell_type": "code",
   "execution_count": 5,
   "id": "a8437d0b",
   "metadata": {},
   "outputs": [],
   "source": [
    "import time\n",
    "\n",
    "class Blockchain:\n",
    "    \n",
    "    def __init__(self):\n",
    "        self.unconfirmed_transactions = []\n",
    "        self.chain = []\n",
    "        self.create_genesis_block()\n",
    "        \n",
    "    def create_genesis_block(self):\n",
    "        \n",
    "        genesis_block = Block(0,[],time.time(),\"0\")\n",
    "        genesis_block.hash = genesis_block.compute_hash()\n",
    "        self.chain.append(genesis_block)\n",
    "        \n",
    "    @property\n",
    "    def last_block(self):\n",
    "        return self.chain[-1]"
   ]
  },
  {
   "cell_type": "markdown",
   "id": "58b3b217",
   "metadata": {},
   "source": [
    "Teste rápido:"
   ]
  },
  {
   "cell_type": "code",
   "execution_count": 7,
   "id": "c57e0316",
   "metadata": {},
   "outputs": [],
   "source": [
    "Lancoin = Blockchain()"
   ]
  },
  {
   "cell_type": "code",
   "execution_count": 8,
   "id": "e06b7799",
   "metadata": {},
   "outputs": [
    {
     "data": {
      "text/plain": [
       "{'unconfirmed_transactions': [], 'chain': [<__main__.Block at 0x7f819c29a610>]}"
      ]
     },
     "execution_count": 8,
     "metadata": {},
     "output_type": "execute_result"
    }
   ],
   "source": [
    "Lancoin.__dict__"
   ]
  },
  {
   "cell_type": "code",
   "execution_count": 12,
   "id": "8ef14943",
   "metadata": {},
   "outputs": [
    {
     "data": {
      "text/plain": [
       "{'index': 0,\n",
       " 'transactions': [],\n",
       " 'timestamp': 1678876800.3912663,\n",
       " 'previous_hash': '0',\n",
       " 'nonce': 0,\n",
       " 'hash': 'd18cf6f2c8e129c98564dc5d2d21fe5bcf454bb9e16364399a9c0515122f0170'}"
      ]
     },
     "execution_count": 12,
     "metadata": {},
     "output_type": "execute_result"
    }
   ],
   "source": [
    "Lancoin.chain[0].__dict__"
   ]
  },
  {
   "cell_type": "markdown",
   "id": "4ea323c3",
   "metadata": {},
   "source": [
    "PoW basciamente significa encontrar um número que faça com que o hash do bloco começe com um número predeterminado de zeros. Esse número que mudamos é o chamado nonce."
   ]
  },
  {
   "cell_type": "code",
   "execution_count": 30,
   "id": "a5ad1ee5",
   "metadata": {},
   "outputs": [],
   "source": [
    "import time\n",
    "\n",
    "class Blockchain:\n",
    "    \n",
    "    def __init__(self):\n",
    "        self.unconfirmed_transactions = []\n",
    "        self.chain = []\n",
    "        self.create_genesis_block()\n",
    "        \n",
    "    def create_genesis_block(self):\n",
    "        \n",
    "        genesis_block = Block(0,[],time.time(),\"0\")\n",
    "        genesis_block.hash = genesis_block.compute_hash()\n",
    "        self.chain.append(genesis_block)\n",
    "        \n",
    "        \n",
    "    difficulty = 2\n",
    "    \n",
    "    def proof_of_work(self,block):\n",
    "        computed_hash = block.compute_hash()\n",
    "        while not computed_hash.startswith('0'*Blockchain.difficulty):\n",
    "            \n",
    "            block.nonce += 1\n",
    "            computed_hash = block.compute_hash()\n",
    "        return computed_hash\n",
    "    \n",
    "    \n",
    "        \n",
    "    @property\n",
    "    def last_block(self):\n",
    "        return self.chain[-1]"
   ]
  },
  {
   "cell_type": "code",
   "execution_count": 31,
   "id": "9706f8e0",
   "metadata": {},
   "outputs": [
    {
     "data": {
      "text/plain": [
       "{'unconfirmed_transactions': [], 'chain': [<__main__.Block at 0x7f819c0c3730>]}"
      ]
     },
     "execution_count": 31,
     "metadata": {},
     "output_type": "execute_result"
    }
   ],
   "source": [
    "Lancoin = Blockchain()\n",
    "Lancoin.__dict__"
   ]
  },
  {
   "cell_type": "code",
   "execution_count": 32,
   "id": "c2c1e886",
   "metadata": {},
   "outputs": [
    {
     "data": {
      "text/plain": [
       "{'index': 0,\n",
       " 'transactions': [],\n",
       " 'timestamp': 1678877580.9420972,\n",
       " 'previous_hash': '0',\n",
       " 'nonce': 0,\n",
       " 'hash': '1dc2cfa6e6fe5da958d2d13e715f06c275c7b0b6e94e7220cc19ced78d41106b'}"
      ]
     },
     "execution_count": 32,
     "metadata": {},
     "output_type": "execute_result"
    }
   ],
   "source": [
    "Lancoin.chain[0].__dict__"
   ]
  },
  {
   "cell_type": "code",
   "execution_count": 33,
   "id": "c2bb0b2e",
   "metadata": {},
   "outputs": [
    {
     "data": {
      "text/plain": [
       "'0000087ca01ae8910e07e738fd186ed5a001cfcd3ce21f5929de7a57f94e87f2'"
      ]
     },
     "execution_count": 33,
     "metadata": {},
     "output_type": "execute_result"
    }
   ],
   "source": [
    "Lancoin.proof_of_work(Lancoin.chain[0])"
   ]
  },
  {
   "cell_type": "code",
   "execution_count": 34,
   "id": "328f6cb5",
   "metadata": {},
   "outputs": [],
   "source": [
    "import time\n",
    "\n",
    "class Blockchain:\n",
    "    \n",
    "    def __init__(self):\n",
    "        self.unconfirmed_transactions = []\n",
    "        self.chain = []\n",
    "        self.create_genesis_block()\n",
    "        \n",
    "    def create_genesis_block(self):\n",
    "        \n",
    "        genesis_block = Block(0,[],time.time(),\"0\")\n",
    "        genesis_block.hash = genesis_block.compute_hash()\n",
    "        self.chain.append(genesis_block)\n",
    "        \n",
    "        \n",
    "    difficulty = 2\n",
    "    \n",
    "    def proof_of_work(self,block):\n",
    "        computed_hash = block.compute_hash()\n",
    "        while not computed_hash.startswith('0'*Blockchain.difficulty):\n",
    "            \n",
    "            block.nonce += 1\n",
    "            computed_hash = block.compute_hash()\n",
    "        return computed_hash\n",
    "    \n",
    "    #parte nova\n",
    "    \n",
    "    def add_block(self,block,proof):\n",
    "        previous_hash = self.last_block.hash\n",
    "        \n",
    "        if previous_hash != block.previous_hash:\n",
    "            return False\n",
    "        \n",
    "        if not self.is_valid_proof(block,proof):\n",
    "            return False\n",
    "        block.hash = proof\n",
    "        self.chain.append(block)\n",
    "    \n",
    "    def is_valid_proof(self, block, block_hash):\n",
    "        return (block_hash.startswith('0'*Blockchain.difficulty) and block_hash == block.compute_hash())\n",
    "    \n",
    "    def add_new_transaction(self,transaction):\n",
    "        self.unconfirmed_transactions.append(transaction)\n",
    "        \n",
    "        \n",
    "    def mine(self):\n",
    "        if not self.unconfirmed_transactions:\n",
    "            return False\n",
    "        \n",
    "        last_block = self.last_block\n",
    "        \n",
    "        new_block = Block(index=last_block.index+1,\n",
    "                         transactions=self.unconfirmed_transactions,\n",
    "                         timestamp=time.time(),\n",
    "                         previous_hash=last_block.hash)\n",
    "        \n",
    "        proof = self.proof_of_work(new_block)\n",
    "        self.add_block(new_block,proof)\n",
    "        self.unconfirmed_transactions = []\n",
    "        return new_block.index\n",
    "    \n",
    "    #parte nova\n",
    "    \n",
    "    \n",
    "        \n",
    "    @property\n",
    "    def last_block(self):\n",
    "        return self.chain[-1]"
   ]
  },
  {
   "cell_type": "markdown",
   "id": "3837d9d9",
   "metadata": {},
   "source": [
    "Hora da verdade. Vamos testar."
   ]
  },
  {
   "cell_type": "code",
   "execution_count": 35,
   "id": "14812eb1",
   "metadata": {},
   "outputs": [],
   "source": [
    "lancoin = Blockchain()"
   ]
  },
  {
   "cell_type": "code",
   "execution_count": 37,
   "id": "a5f504db",
   "metadata": {},
   "outputs": [
    {
     "name": "stdout",
     "output_type": "stream",
     "text": [
      "{'unconfirmed_transactions': [], 'chain': [<__main__.Block object at 0x7f819c21db20>]}\n",
      "{'index': 0, 'transactions': [], 'timestamp': 1678878778.3157554, 'previous_hash': '0', 'nonce': 0, 'hash': 'fd319b43ac4749bb5a195c443488e6efb89d392e98007bcd8b9a9748c59e43c8'}\n"
     ]
    }
   ],
   "source": [
    "print(lancoin.__dict__)\n",
    "print(lancoin.chain[0].__dict__)"
   ]
  },
  {
   "cell_type": "code",
   "execution_count": 38,
   "id": "8b24808d",
   "metadata": {},
   "outputs": [
    {
     "data": {
      "text/plain": [
       "2"
      ]
     },
     "execution_count": 38,
     "metadata": {},
     "output_type": "execute_result"
    }
   ],
   "source": [
    "lancoin.difficulty"
   ]
  },
  {
   "cell_type": "code",
   "execution_count": 39,
   "id": "a0a1d9ab",
   "metadata": {},
   "outputs": [
    {
     "data": {
      "text/plain": [
       "'000d0c040ec9c4f7a90d69181ec7670cb6fdbb88a170d43f82e219045e3f2dc4'"
      ]
     },
     "execution_count": 39,
     "metadata": {},
     "output_type": "execute_result"
    }
   ],
   "source": [
    "lancoin.proof_of_work(lancoin.chain[0])"
   ]
  },
  {
   "cell_type": "code",
   "execution_count": 40,
   "id": "054ff50e",
   "metadata": {},
   "outputs": [
    {
     "name": "stdout",
     "output_type": "stream",
     "text": [
      "{'index': 0, 'transactions': [], 'timestamp': 1678878778.3157554, 'previous_hash': '0', 'nonce': 38, 'hash': 'fd319b43ac4749bb5a195c443488e6efb89d392e98007bcd8b9a9748c59e43c8'}\n"
     ]
    }
   ],
   "source": [
    "print(lancoin.chain[0].__dict__)"
   ]
  },
  {
   "cell_type": "code",
   "execution_count": 41,
   "id": "5b5e7b84",
   "metadata": {},
   "outputs": [
    {
     "data": {
      "text/plain": [
       "'000d0c040ec9c4f7a90d69181ec7670cb6fdbb88a170d43f82e219045e3f2dc4'"
      ]
     },
     "execution_count": 41,
     "metadata": {},
     "output_type": "execute_result"
    }
   ],
   "source": [
    "lancoin.chain[0].compute_hash()"
   ]
  },
  {
   "cell_type": "markdown",
   "id": "f2838c6d",
   "metadata": {},
   "source": [
    "Vamos adicionar transações:"
   ]
  },
  {
   "cell_type": "code",
   "execution_count": 42,
   "id": "1a12176b",
   "metadata": {},
   "outputs": [],
   "source": [
    "lancoin.add_new_transaction(\"t1\")"
   ]
  },
  {
   "cell_type": "code",
   "execution_count": 43,
   "id": "97b7da11",
   "metadata": {},
   "outputs": [],
   "source": [
    "lancoin.add_new_transaction(\"t2\")"
   ]
  },
  {
   "cell_type": "code",
   "execution_count": 44,
   "id": "ea13992f",
   "metadata": {},
   "outputs": [],
   "source": [
    "lancoin.add_new_transaction(\"t3\")"
   ]
  },
  {
   "cell_type": "code",
   "execution_count": 46,
   "id": "d4e12a9b",
   "metadata": {},
   "outputs": [
    {
     "data": {
      "text/plain": [
       "['t1', 't2', 't3']"
      ]
     },
     "execution_count": 46,
     "metadata": {},
     "output_type": "execute_result"
    }
   ],
   "source": [
    "lancoin.unconfirmed_transactions"
   ]
  },
  {
   "cell_type": "code",
   "execution_count": 47,
   "id": "4cc5290d",
   "metadata": {},
   "outputs": [
    {
     "data": {
      "text/plain": [
       "1"
      ]
     },
     "execution_count": 47,
     "metadata": {},
     "output_type": "execute_result"
    }
   ],
   "source": [
    "lancoin.mine()"
   ]
  },
  {
   "cell_type": "code",
   "execution_count": 48,
   "id": "53a9ac28",
   "metadata": {},
   "outputs": [
    {
     "name": "stdout",
     "output_type": "stream",
     "text": [
      "{'unconfirmed_transactions': [], 'chain': [<__main__.Block object at 0x7f819c21db20>, <__main__.Block object at 0x7f819c1debe0>]}\n"
     ]
    }
   ],
   "source": [
    "print(lancoin.__dict__)"
   ]
  },
  {
   "cell_type": "markdown",
   "id": "668b678c",
   "metadata": {},
   "source": [
    "Agora a chain tem dois elementos. Vamos ver os dois:"
   ]
  },
  {
   "cell_type": "code",
   "execution_count": 49,
   "id": "1f4fbb33",
   "metadata": {},
   "outputs": [
    {
     "name": "stdout",
     "output_type": "stream",
     "text": [
      "{'index': 0, 'transactions': [], 'timestamp': 1678878778.3157554, 'previous_hash': '0', 'nonce': 38, 'hash': 'fd319b43ac4749bb5a195c443488e6efb89d392e98007bcd8b9a9748c59e43c8'}\n",
      "{'index': 1, 'transactions': ['t1', 't2', 't3'], 'timestamp': 1678879153.198021, 'previous_hash': 'fd319b43ac4749bb5a195c443488e6efb89d392e98007bcd8b9a9748c59e43c8', 'nonce': 388, 'hash': '0086690dcc643b13e5a8f446ab660314e4949c2b65a81c3aecb9ba4d2c53b046'}\n"
     ]
    }
   ],
   "source": [
    "print(lancoin.chain[0].__dict__)\n",
    "print(lancoin.chain[1].__dict__)"
   ]
  },
  {
   "cell_type": "code",
   "execution_count": 50,
   "id": "8838d7c8",
   "metadata": {},
   "outputs": [
    {
     "data": {
      "text/plain": [
       "[]"
      ]
     },
     "execution_count": 50,
     "metadata": {},
     "output_type": "execute_result"
    }
   ],
   "source": [
    "lancoin.unconfirmed_transactions"
   ]
  },
  {
   "cell_type": "code",
   "execution_count": 51,
   "id": "725fc403",
   "metadata": {},
   "outputs": [
    {
     "data": {
      "text/plain": [
       "False"
      ]
     },
     "execution_count": 51,
     "metadata": {},
     "output_type": "execute_result"
    }
   ],
   "source": [
    "lancoin.mine()"
   ]
  },
  {
   "cell_type": "code",
   "execution_count": 52,
   "id": "1d1e2aae",
   "metadata": {},
   "outputs": [],
   "source": [
    "lancoin.add_new_transaction(\"t4\")\n",
    "lancoin.add_new_transaction(\"t5\")\n",
    "lancoin.add_new_transaction(\"t6\")"
   ]
  },
  {
   "cell_type": "code",
   "execution_count": 54,
   "id": "46213dcf",
   "metadata": {},
   "outputs": [
    {
     "data": {
      "text/plain": [
       "2"
      ]
     },
     "execution_count": 54,
     "metadata": {},
     "output_type": "execute_result"
    }
   ],
   "source": [
    "lancoin.mine()"
   ]
  },
  {
   "cell_type": "code",
   "execution_count": 55,
   "id": "b5e65ff6",
   "metadata": {},
   "outputs": [
    {
     "name": "stdout",
     "output_type": "stream",
     "text": [
      "{'unconfirmed_transactions': [], 'chain': [<__main__.Block object at 0x7f819c21db20>, <__main__.Block object at 0x7f819c1debe0>, <__main__.Block object at 0x7f819c1def70>]}\n",
      "{'index': 0, 'transactions': [], 'timestamp': 1678878778.3157554, 'previous_hash': '0', 'nonce': 38, 'hash': 'fd319b43ac4749bb5a195c443488e6efb89d392e98007bcd8b9a9748c59e43c8'}\n",
      "{'index': 1, 'transactions': ['t1', 't2', 't3'], 'timestamp': 1678879153.198021, 'previous_hash': 'fd319b43ac4749bb5a195c443488e6efb89d392e98007bcd8b9a9748c59e43c8', 'nonce': 388, 'hash': '0086690dcc643b13e5a8f446ab660314e4949c2b65a81c3aecb9ba4d2c53b046'}\n",
      "{'index': 2, 'transactions': ['t4', 't5', 't6'], 'timestamp': 1678879322.095143, 'previous_hash': '0086690dcc643b13e5a8f446ab660314e4949c2b65a81c3aecb9ba4d2c53b046', 'nonce': 257, 'hash': '0024e5c46bf8a85e369ece9db401d6a40645a219809bf974d2e709473aa460cb'}\n"
     ]
    }
   ],
   "source": [
    "print(lancoin.__dict__)\n",
    "print(lancoin.chain[0].__dict__)\n",
    "print(lancoin.chain[1].__dict__)\n",
    "print(lancoin.chain[2].__dict__)"
   ]
  },
  {
   "cell_type": "code",
   "execution_count": null,
   "id": "9c8039ef",
   "metadata": {},
   "outputs": [],
   "source": []
  }
 ],
 "metadata": {
  "kernelspec": {
   "display_name": "Python 3 (ipykernel)",
   "language": "python",
   "name": "python3"
  },
  "language_info": {
   "codemirror_mode": {
    "name": "ipython",
    "version": 3
   },
   "file_extension": ".py",
   "mimetype": "text/x-python",
   "name": "python",
   "nbconvert_exporter": "python",
   "pygments_lexer": "ipython3",
   "version": "3.9.12"
  }
 },
 "nbformat": 4,
 "nbformat_minor": 5
}
