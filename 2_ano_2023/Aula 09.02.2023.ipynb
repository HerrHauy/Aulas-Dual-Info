{
 "cells": [
  {
   "cell_type": "markdown",
   "id": "ce025c13",
   "metadata": {},
   "source": [
    "Calculando a diferença entre função e pontos.\n",
    "\n",
    "Essa distância chamamos de $\\chi^2$ e ela é a soma das distâncias entre ponto e reta $d_i^2=(f(x_i)-y_i)^2$. Vamos supor que temos, no total, $n$ pontos.\n",
    "\n",
    "$$\\chi^2=d_1^2+d_2^2+d_3^2+\\cdots+d_n^2$$\n",
    "\n",
    "$$f(x)=ax+b$$\n",
    "\n",
    "$$\\chi^2=(f(x_1)-y_1)^2+(f(x_2)-y_2)^2+\\cdots$$\n",
    "\n",
    "$$\\chi^2=(ax_1+b-y_1)^2+(ax_2+b-y_2)^2+\\cdots$$\n",
    "\n",
    "$$\\chi^2=a^2 x_1^2 + 2 a b x_1 - 2 a x_1 y_1 + b^2 - 2 b y_1 + y_1^2+\\cdots$$"
   ]
  },
  {
   "cell_type": "markdown",
   "id": "873c4c4e",
   "metadata": {},
   "source": [
    "$$\\chi^2=a^2(x_1^2+x_2^2+\\cdots)+2ab(x_1+x_2+\\cdots)-2a(x_1y_1+x_2y_2+\\cdots)+nb^2-2b(y_1+y_2\\cdots)+(y_1+y_2+\\cdots)$$"
   ]
  },
  {
   "cell_type": "markdown",
   "id": "bf2004aa",
   "metadata": {},
   "source": [
    "A solução, que minimiza o valor de $\\chi^2$ é:\n",
    "\n",
    "$$a=\\frac{nY-XY}{n\\lambda-X^2}$$\n",
    "$$b=\\frac{-aX}{n}+\\frac{Y}{n}$$\n",
    "\n",
    "onde\n",
    "\n",
    "$X=(x_1+\\cdots+x_n)$, $Y=(y_1+\\cdots+y_n)$ e $\\lambda=(x_1^2+\\cdots+x_n^2)$."
   ]
  },
  {
   "cell_type": "code",
   "execution_count": null,
   "id": "cac826d4",
   "metadata": {},
   "outputs": [],
   "source": []
  }
 ],
 "metadata": {
  "kernelspec": {
   "display_name": "Python 3 (ipykernel)",
   "language": "python",
   "name": "python3"
  },
  "language_info": {
   "codemirror_mode": {
    "name": "ipython",
    "version": 3
   },
   "file_extension": ".py",
   "mimetype": "text/x-python",
   "name": "python",
   "nbconvert_exporter": "python",
   "pygments_lexer": "ipython3",
   "version": "3.9.12"
  }
 },
 "nbformat": 4,
 "nbformat_minor": 5
}
