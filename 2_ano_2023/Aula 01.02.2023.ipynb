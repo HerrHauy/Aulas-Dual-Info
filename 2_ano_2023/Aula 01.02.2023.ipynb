{
 "cells": [
  {
   "cell_type": "markdown",
   "id": "f1c8346c",
   "metadata": {},
   "source": [
    "Correção da lição de casa:"
   ]
  },
  {
   "cell_type": "code",
   "execution_count": 1,
   "id": "83516b8c",
   "metadata": {},
   "outputs": [],
   "source": [
    "def n_pares(n):\n",
    "    for i in range(1,n+1):\n",
    "        print(2*i)"
   ]
  },
  {
   "cell_type": "code",
   "execution_count": 9,
   "id": "4389e95b",
   "metadata": {},
   "outputs": [
    {
     "name": "stdout",
     "output_type": "stream",
     "text": [
      "2\n",
      "4\n"
     ]
    }
   ],
   "source": [
    "n_pares(2)"
   ]
  },
  {
   "cell_type": "code",
   "execution_count": 10,
   "id": "fde32745",
   "metadata": {},
   "outputs": [],
   "source": [
    "def mult(a,b):\n",
    "    res = 0\n",
    "    for i in range(1,b+1):\n",
    "        res += a\n",
    "        \n",
    "    return res"
   ]
  },
  {
   "cell_type": "code",
   "execution_count": 12,
   "id": "e593b9f1",
   "metadata": {},
   "outputs": [
    {
     "data": {
      "text/plain": [
       "30"
      ]
     },
     "execution_count": 12,
     "metadata": {},
     "output_type": "execute_result"
    }
   ],
   "source": [
    "mult(5,6)"
   ]
  },
  {
   "cell_type": "code",
   "execution_count": 13,
   "id": "235138da",
   "metadata": {},
   "outputs": [],
   "source": [
    "from time import time"
   ]
  },
  {
   "cell_type": "code",
   "execution_count": 21,
   "id": "29dc5dd5",
   "metadata": {},
   "outputs": [
    {
     "name": "stdout",
     "output_type": "stream",
     "text": [
      "0.052481889724731445\n"
     ]
    }
   ],
   "source": [
    "t = time()\n",
    "mult(4,700000)\n",
    "t = time()-t\n",
    "print(t)"
   ]
  },
  {
   "cell_type": "code",
   "execution_count": 22,
   "id": "ad78fff8",
   "metadata": {},
   "outputs": [
    {
     "name": "stdout",
     "output_type": "stream",
     "text": [
      "0.00010037422180175781\n"
     ]
    }
   ],
   "source": [
    "t = time()\n",
    "mult(700000,4)\n",
    "t = time()-t\n",
    "print(t)"
   ]
  },
  {
   "cell_type": "code",
   "execution_count": 26,
   "id": "13978aae",
   "metadata": {},
   "outputs": [],
   "source": [
    "def mult_melhor(a,b):\n",
    "    res = 0\n",
    "    if a<b:\n",
    "        for i in range(1,a+1):\n",
    "            res += b\n",
    "    else:\n",
    "        for i in range(1,b+1):\n",
    "            res += a\n",
    "        \n",
    "    return res"
   ]
  },
  {
   "cell_type": "code",
   "execution_count": 27,
   "id": "744c0535",
   "metadata": {},
   "outputs": [
    {
     "name": "stdout",
     "output_type": "stream",
     "text": [
      "0.00016617774963378906\n"
     ]
    }
   ],
   "source": [
    "t = time()\n",
    "mult_melhor(4,700000)\n",
    "t = time()-t\n",
    "print(t)"
   ]
  },
  {
   "cell_type": "code",
   "execution_count": 47,
   "id": "dcfda553",
   "metadata": {},
   "outputs": [],
   "source": [
    "def primo(n):\n",
    "    \n",
    "    for i in range(2,n):\n",
    "        if n%i == 0:\n",
    "            return print(str(n)+' não é primo')\n",
    "    print(str(n)+' é primo')"
   ]
  },
  {
   "cell_type": "code",
   "execution_count": 61,
   "id": "685fa770",
   "metadata": {},
   "outputs": [
    {
     "name": "stdout",
     "output_type": "stream",
     "text": [
      "433494437 é primo\n",
      "None 27.84470248222351\n"
     ]
    }
   ],
   "source": [
    "t = time()\n",
    "p = primo(433494437)\n",
    "t = time()-t\n",
    "print(p,t)"
   ]
  },
  {
   "cell_type": "code",
   "execution_count": 64,
   "id": "7adb5a4d",
   "metadata": {},
   "outputs": [],
   "source": [
    "import math as math"
   ]
  },
  {
   "cell_type": "code",
   "execution_count": 66,
   "id": "2479b396",
   "metadata": {},
   "outputs": [],
   "source": [
    "def primo2(n):\n",
    "    \n",
    "    for i in range(2,math.floor(n/2)):\n",
    "        if n%i == 0:\n",
    "            return print(str(n)+' não é primo')\n",
    "    print(str(n)+' é primo')"
   ]
  },
  {
   "cell_type": "code",
   "execution_count": 67,
   "id": "b537b774",
   "metadata": {},
   "outputs": [
    {
     "name": "stdout",
     "output_type": "stream",
     "text": [
      "433494437 é primo\n",
      "None 13.333610534667969\n"
     ]
    }
   ],
   "source": [
    "t = time()\n",
    "p = primo2(433494437)\n",
    "t = time()-t\n",
    "print(p,t)"
   ]
  },
  {
   "cell_type": "code",
   "execution_count": 69,
   "id": "af512d66",
   "metadata": {},
   "outputs": [],
   "source": [
    "import numpy as np"
   ]
  },
  {
   "cell_type": "code",
   "execution_count": 71,
   "id": "a748e696",
   "metadata": {},
   "outputs": [],
   "source": [
    "def primo3(n):\n",
    "    \n",
    "    for i in range(2,math.floor(np.sqrt(n))):\n",
    "        if n%i == 0:\n",
    "            return print(str(n)+' não é primo')\n",
    "    print(str(n)+' é primo')"
   ]
  },
  {
   "cell_type": "code",
   "execution_count": 72,
   "id": "be388f3d",
   "metadata": {},
   "outputs": [
    {
     "name": "stdout",
     "output_type": "stream",
     "text": [
      "433494437 é primo\n",
      "None 0.0018494129180908203\n"
     ]
    }
   ],
   "source": [
    "t = time()\n",
    "p = primo3(433494437)\n",
    "t = time()-t\n",
    "print(p,t)"
   ]
  },
  {
   "cell_type": "code",
   "execution_count": 73,
   "id": "b448fae7",
   "metadata": {},
   "outputs": [
    {
     "name": "stdout",
     "output_type": "stream",
     "text": [
      "2971215073 é primo\n",
      "None 0.014464616775512695\n"
     ]
    }
   ],
   "source": [
    "t = time()\n",
    "p = primo3(2971215073)\n",
    "t = time()-t\n",
    "print(p,t)"
   ]
  },
  {
   "cell_type": "code",
   "execution_count": 74,
   "id": "350739fc",
   "metadata": {},
   "outputs": [
    {
     "name": "stdout",
     "output_type": "stream",
     "text": [
      "99194853094755497 é primo\n",
      "None 33.04003667831421\n"
     ]
    }
   ],
   "source": [
    "t = time()\n",
    "p = primo3(99194853094755497)\n",
    "t = time()-t\n",
    "print(p,t)"
   ]
  },
  {
   "cell_type": "code",
   "execution_count": 75,
   "id": "ec473301",
   "metadata": {},
   "outputs": [],
   "source": [
    "from tqdm import tqdm"
   ]
  },
  {
   "cell_type": "code",
   "execution_count": 77,
   "id": "5ea3ea32",
   "metadata": {},
   "outputs": [],
   "source": [
    "def primot(n):\n",
    "    \n",
    "    for i in tqdm(range(2,n)):\n",
    "        if n%i == 0:\n",
    "            return print(str(n)+' não é primo')\n",
    "    print(str(n)+' é primo')"
   ]
  },
  {
   "cell_type": "code",
   "execution_count": 79,
   "id": "887a3d88",
   "metadata": {},
   "outputs": [
    {
     "name": "stderr",
     "output_type": "stream",
     "text": [
      "  0%|                  | 137016220/99194853094755495 [00:41<8259533:57:13, 3336038.81it/s]\n"
     ]
    },
    {
     "ename": "KeyboardInterrupt",
     "evalue": "",
     "output_type": "error",
     "traceback": [
      "\u001b[0;31m---------------------------------------------------------------------------\u001b[0m",
      "\u001b[0;31mKeyboardInterrupt\u001b[0m                         Traceback (most recent call last)",
      "Input \u001b[0;32mIn [79]\u001b[0m, in \u001b[0;36m<cell line: 2>\u001b[0;34m()\u001b[0m\n\u001b[1;32m      1\u001b[0m t \u001b[38;5;241m=\u001b[39m time()\n\u001b[0;32m----> 2\u001b[0m p \u001b[38;5;241m=\u001b[39m \u001b[43mprimot\u001b[49m\u001b[43m(\u001b[49m\u001b[38;5;241;43m99194853094755497\u001b[39;49m\u001b[43m)\u001b[49m\n\u001b[1;32m      3\u001b[0m t \u001b[38;5;241m=\u001b[39m time()\u001b[38;5;241m-\u001b[39mt\n\u001b[1;32m      4\u001b[0m \u001b[38;5;28mprint\u001b[39m(p,t)\n",
      "Input \u001b[0;32mIn [77]\u001b[0m, in \u001b[0;36mprimot\u001b[0;34m(n)\u001b[0m\n\u001b[1;32m      1\u001b[0m \u001b[38;5;28;01mdef\u001b[39;00m \u001b[38;5;21mprimot\u001b[39m(n):\n\u001b[1;32m      3\u001b[0m     \u001b[38;5;28;01mfor\u001b[39;00m i \u001b[38;5;129;01min\u001b[39;00m tqdm(\u001b[38;5;28mrange\u001b[39m(\u001b[38;5;241m2\u001b[39m,n)):\n\u001b[0;32m----> 4\u001b[0m         \u001b[38;5;28;01mif\u001b[39;00m \u001b[43mn\u001b[49m\u001b[38;5;241;43m%\u001b[39;49m\u001b[43mi\u001b[49m \u001b[38;5;241m==\u001b[39m \u001b[38;5;241m0\u001b[39m:\n\u001b[1;32m      5\u001b[0m             \u001b[38;5;28;01mreturn\u001b[39;00m \u001b[38;5;28mprint\u001b[39m(\u001b[38;5;28mstr\u001b[39m(n)\u001b[38;5;241m+\u001b[39m\u001b[38;5;124m'\u001b[39m\u001b[38;5;124m não é primo\u001b[39m\u001b[38;5;124m'\u001b[39m)\n\u001b[1;32m      6\u001b[0m     \u001b[38;5;28mprint\u001b[39m(\u001b[38;5;28mstr\u001b[39m(n)\u001b[38;5;241m+\u001b[39m\u001b[38;5;124m'\u001b[39m\u001b[38;5;124m é primo\u001b[39m\u001b[38;5;124m'\u001b[39m)\n",
      "\u001b[0;31mKeyboardInterrupt\u001b[0m: "
     ]
    }
   ],
   "source": [
    "t = time()\n",
    "p = primot(99194853094755497)\n",
    "t = time()-t\n",
    "print(p,t)"
   ]
  },
  {
   "cell_type": "code",
   "execution_count": 80,
   "id": "477cae97",
   "metadata": {},
   "outputs": [
    {
     "data": {
      "text/plain": [
       "41666.666666666664"
      ]
     },
     "execution_count": 80,
     "metadata": {},
     "output_type": "execute_result"
    }
   ],
   "source": [
    "1000000/24"
   ]
  },
  {
   "cell_type": "code",
   "execution_count": 81,
   "id": "c13b6481",
   "metadata": {},
   "outputs": [
    {
     "data": {
      "text/plain": [
       "114.15525114155251"
      ]
     },
     "execution_count": 81,
     "metadata": {},
     "output_type": "execute_result"
    }
   ],
   "source": [
    "41666.666666666664/365"
   ]
  },
  {
   "cell_type": "markdown",
   "id": "95a56be3",
   "metadata": {},
   "source": [
    "## Falando de arrays"
   ]
  },
  {
   "cell_type": "code",
   "execution_count": 1,
   "id": "aac70ba0",
   "metadata": {},
   "outputs": [],
   "source": [
    "alunos = ['natan', 'gabi', 'davi', 'sr. lan']"
   ]
  },
  {
   "cell_type": "code",
   "execution_count": 2,
   "id": "de922619",
   "metadata": {},
   "outputs": [
    {
     "data": {
      "text/plain": [
       "['natan', 'gabi', 'davi', 'sr. lan']"
      ]
     },
     "execution_count": 2,
     "metadata": {},
     "output_type": "execute_result"
    }
   ],
   "source": [
    "alunos"
   ]
  },
  {
   "cell_type": "code",
   "execution_count": 3,
   "id": "083212fe",
   "metadata": {},
   "outputs": [
    {
     "data": {
      "text/plain": [
       "'natan'"
      ]
     },
     "execution_count": 3,
     "metadata": {},
     "output_type": "execute_result"
    }
   ],
   "source": [
    "alunos[0]"
   ]
  },
  {
   "cell_type": "code",
   "execution_count": 4,
   "id": "0032f1f4",
   "metadata": {},
   "outputs": [
    {
     "data": {
      "text/plain": [
       "4"
      ]
     },
     "execution_count": 4,
     "metadata": {},
     "output_type": "execute_result"
    }
   ],
   "source": [
    "len(alunos)"
   ]
  },
  {
   "cell_type": "code",
   "execution_count": 6,
   "id": "d3069000",
   "metadata": {},
   "outputs": [
    {
     "name": "stdout",
     "output_type": "stream",
     "text": [
      "natan é aluno(a) da minha turma\n",
      "gabi é aluno(a) da minha turma\n",
      "davi é aluno(a) da minha turma\n",
      "sr. lan é aluno(a) da minha turma\n"
     ]
    }
   ],
   "source": [
    "for aluno in alunos:\n",
    "    print(aluno + ' é aluno(a) da minha turma')"
   ]
  },
  {
   "cell_type": "code",
   "execution_count": 7,
   "id": "efa427bb",
   "metadata": {},
   "outputs": [],
   "source": [
    "alunos.append('andrei')"
   ]
  },
  {
   "cell_type": "code",
   "execution_count": 8,
   "id": "e1cbaad6",
   "metadata": {},
   "outputs": [],
   "source": [
    "alunos.append('guilherme')"
   ]
  },
  {
   "cell_type": "code",
   "execution_count": 10,
   "id": "c632b498",
   "metadata": {},
   "outputs": [],
   "source": [
    "alunos.append('hauy')"
   ]
  },
  {
   "cell_type": "code",
   "execution_count": 13,
   "id": "6293afc9",
   "metadata": {},
   "outputs": [],
   "source": [
    "alunos.append('hauy2')"
   ]
  },
  {
   "cell_type": "code",
   "execution_count": 14,
   "id": "9d7f390c",
   "metadata": {},
   "outputs": [
    {
     "data": {
      "text/plain": [
       "['natan', 'gabi', 'davi', 'sr. lan', 'andrei', 'guilherme', 'hauy', 'hauy2']"
      ]
     },
     "execution_count": 14,
     "metadata": {},
     "output_type": "execute_result"
    }
   ],
   "source": [
    "alunos"
   ]
  },
  {
   "cell_type": "code",
   "execution_count": 15,
   "id": "39648b16",
   "metadata": {},
   "outputs": [
    {
     "data": {
      "text/plain": [
       "8"
      ]
     },
     "execution_count": 15,
     "metadata": {},
     "output_type": "execute_result"
    }
   ],
   "source": [
    "len(alunos)"
   ]
  },
  {
   "cell_type": "code",
   "execution_count": 16,
   "id": "e6df832c",
   "metadata": {},
   "outputs": [],
   "source": [
    "alunos.remove('hauy')"
   ]
  },
  {
   "cell_type": "code",
   "execution_count": 17,
   "id": "2ddc2fe4",
   "metadata": {},
   "outputs": [
    {
     "data": {
      "text/plain": [
       "['natan', 'gabi', 'davi', 'sr. lan', 'andrei', 'guilherme', 'hauy2']"
      ]
     },
     "execution_count": 17,
     "metadata": {},
     "output_type": "execute_result"
    }
   ],
   "source": [
    "alunos"
   ]
  },
  {
   "cell_type": "code",
   "execution_count": 18,
   "id": "07cb5b35",
   "metadata": {},
   "outputs": [
    {
     "data": {
      "text/plain": [
       "'hauy2'"
      ]
     },
     "execution_count": 18,
     "metadata": {},
     "output_type": "execute_result"
    }
   ],
   "source": [
    "alunos.pop(6)"
   ]
  },
  {
   "cell_type": "code",
   "execution_count": 19,
   "id": "61b4c9d1",
   "metadata": {},
   "outputs": [
    {
     "data": {
      "text/plain": [
       "['natan', 'gabi', 'davi', 'sr. lan', 'andrei', 'guilherme']"
      ]
     },
     "execution_count": 19,
     "metadata": {},
     "output_type": "execute_result"
    }
   ],
   "source": [
    "alunos"
   ]
  },
  {
   "cell_type": "markdown",
   "id": "224e3c39",
   "metadata": {},
   "source": [
    "## Datas"
   ]
  },
  {
   "cell_type": "code",
   "execution_count": 20,
   "id": "56f9c6fe",
   "metadata": {},
   "outputs": [],
   "source": [
    "import datetime"
   ]
  },
  {
   "cell_type": "code",
   "execution_count": 21,
   "id": "0d20faa0",
   "metadata": {},
   "outputs": [],
   "source": [
    "x = datetime.datetime.now()"
   ]
  },
  {
   "cell_type": "code",
   "execution_count": 22,
   "id": "62eed6cb",
   "metadata": {},
   "outputs": [
    {
     "data": {
      "text/plain": [
       "datetime.datetime(2023, 2, 1, 8, 32, 38, 18154)"
      ]
     },
     "execution_count": 22,
     "metadata": {},
     "output_type": "execute_result"
    }
   ],
   "source": [
    "x"
   ]
  },
  {
   "cell_type": "code",
   "execution_count": 23,
   "id": "3ab5e5e3",
   "metadata": {},
   "outputs": [
    {
     "name": "stdout",
     "output_type": "stream",
     "text": [
      "2023-02-01 08:32:38.018154\n"
     ]
    }
   ],
   "source": [
    "print(x)"
   ]
  },
  {
   "cell_type": "code",
   "execution_count": 24,
   "id": "8a773155",
   "metadata": {},
   "outputs": [
    {
     "name": "stdout",
     "output_type": "stream",
     "text": [
      "2023\n"
     ]
    }
   ],
   "source": [
    "print(x.year)"
   ]
  },
  {
   "cell_type": "code",
   "execution_count": 25,
   "id": "6a256c56",
   "metadata": {},
   "outputs": [
    {
     "name": "stdout",
     "output_type": "stream",
     "text": [
      "1\n"
     ]
    }
   ],
   "source": [
    "print(x.day)"
   ]
  },
  {
   "cell_type": "code",
   "execution_count": 26,
   "id": "3380d7b8",
   "metadata": {},
   "outputs": [
    {
     "name": "stdout",
     "output_type": "stream",
     "text": [
      "8\n"
     ]
    }
   ],
   "source": [
    "print(x.hour)"
   ]
  },
  {
   "cell_type": "code",
   "execution_count": 27,
   "id": "f206be6a",
   "metadata": {
    "scrolled": true
   },
   "outputs": [
    {
     "name": "stdout",
     "output_type": "stream",
     "text": [
      "Wednesday\n"
     ]
    }
   ],
   "source": [
    "print(x.strftime(\"%A\"))"
   ]
  },
  {
   "cell_type": "markdown",
   "id": "2bf8f786",
   "metadata": {},
   "source": [
    "## Coisas de matemática"
   ]
  },
  {
   "cell_type": "code",
   "execution_count": 30,
   "id": "7439f057",
   "metadata": {},
   "outputs": [],
   "source": [
    "import numpy as np"
   ]
  },
  {
   "cell_type": "code",
   "execution_count": 31,
   "id": "ae1087da",
   "metadata": {},
   "outputs": [
    {
     "data": {
      "text/plain": [
       "3.141592653589793"
      ]
     },
     "execution_count": 31,
     "metadata": {},
     "output_type": "execute_result"
    }
   ],
   "source": [
    "np.pi"
   ]
  },
  {
   "cell_type": "code",
   "execution_count": 32,
   "id": "29e40f64",
   "metadata": {},
   "outputs": [
    {
     "data": {
      "text/plain": [
       "18.57417562100671"
      ]
     },
     "execution_count": 32,
     "metadata": {},
     "output_type": "execute_result"
    }
   ],
   "source": [
    "np.sqrt(345) # Raíz quadrada (square root)"
   ]
  },
  {
   "cell_type": "code",
   "execution_count": 35,
   "id": "441a57cb",
   "metadata": {},
   "outputs": [],
   "source": [
    "import matplotlib.pyplot as plt"
   ]
  },
  {
   "cell_type": "code",
   "execution_count": 36,
   "id": "f36677f9",
   "metadata": {},
   "outputs": [
    {
     "data": {
      "text/plain": [
       "[<matplotlib.lines.Line2D at 0x7f40ca2f29d0>]"
      ]
     },
     "execution_count": 36,
     "metadata": {},
     "output_type": "execute_result"
    },
    {
     "data": {
      "image/png": "[encoded data removed]",
      "text/plain": [
       "<Figure size 432x288 with 1 Axes>"
      ]
     },
     "metadata": {
      "needs_background": "light"
     },
     "output_type": "display_data"
    }
   ],
   "source": [
    "xpoints = [9,4,7]\n",
    "ypoints = [5,3,11]\n",
    "\n",
    "plt.plot(xpoints,ypoints)"
   ]
  },
  {
   "cell_type": "markdown",
   "id": "78cd8b18",
   "metadata": {},
   "source": [
    "O padrão é ligar os pontos em uma linha, mas as vezes isso não é conveniente."
   ]
  },
  {
   "cell_type": "code",
   "execution_count": 37,
   "id": "99734608",
   "metadata": {},
   "outputs": [
    {
     "data": {
      "text/plain": [
       "[<matplotlib.lines.Line2D at 0x7f40c9a547c0>]"
      ]
     },
     "execution_count": 37,
     "metadata": {},
     "output_type": "execute_result"
    },
    {
     "data": {
      "image/png": "[encoded data removed]",
      "text/plain": [
       "<Figure size 432x288 with 1 Axes>"
      ]
     },
     "metadata": {
      "needs_background": "light"
     },
     "output_type": "display_data"
    }
   ],
   "source": [
    "xpoints = [9,4,7]\n",
    "ypoints = [5,3,11]\n",
    "\n",
    "plt.plot(xpoints,ypoints, 'o')"
   ]
  },
  {
   "cell_type": "code",
   "execution_count": 39,
   "id": "0406bebe",
   "metadata": {},
   "outputs": [
    {
     "data": {
      "text/plain": [
       "[<matplotlib.lines.Line2D at 0x7f40c6dac5b0>]"
      ]
     },
     "execution_count": 39,
     "metadata": {},
     "output_type": "execute_result"
    },
    {
     "data": {
      "image/png": "[encoded data removed]",
      "text/plain": [
       "<Figure size 432x288 with 1 Axes>"
      ]
     },
     "metadata": {
      "needs_background": "light"
     },
     "output_type": "display_data"
    }
   ],
   "source": [
    "xpoints = [9,4,7]\n",
    "ypoints = [5,3,11]\n",
    "\n",
    "plt.plot(xpoints,ypoints, '.')"
   ]
  },
  {
   "cell_type": "code",
   "execution_count": 40,
   "id": "fdc94625",
   "metadata": {},
   "outputs": [
    {
     "data": {
      "text/plain": [
       "[<matplotlib.lines.Line2D at 0x7f40c6d03af0>]"
      ]
     },
     "execution_count": 40,
     "metadata": {},
     "output_type": "execute_result"
    },
    {
     "data": {
      "image/png": "[encoded data removed]",
      "text/plain": [
       "<Figure size 432x288 with 1 Axes>"
      ]
     },
     "metadata": {
      "needs_background": "light"
     },
     "output_type": "display_data"
    }
   ],
   "source": [
    "xpoints = [9,4,7]\n",
    "ypoints = [5,3,11]\n",
    "\n",
    "plt.plot(xpoints,ypoints, '--')"
   ]
  },
  {
   "cell_type": "code",
   "execution_count": 47,
   "id": "f2ab6f27",
   "metadata": {},
   "outputs": [
    {
     "data": {
      "image/png": "[encoded data removed]",
      "text/plain": [
       "<Figure size 432x288 with 1 Axes>"
      ]
     },
     "metadata": {
      "needs_background": "light"
     },
     "output_type": "display_data"
    }
   ],
   "source": [
    "xpoints = [9,4,7]\n",
    "ypoints = [5,3,11]\n",
    "\n",
    "xpoints2 = [1,4,8]\n",
    "ypoints2 = [7,8,13]\n",
    "\n",
    "plt.plot(xpoints,ypoints, 'o', color='red')\n",
    "plt.plot(xpoints2,ypoints2, '--', color='green')\n",
    "plt.show()"
   ]
  },
  {
   "cell_type": "code",
   "execution_count": 50,
   "id": "5d22ec0f",
   "metadata": {},
   "outputs": [
    {
     "data": {
      "image/png": "[encoded data removed]",
      "text/plain": [
       "<Figure size 432x288 with 1 Axes>"
      ]
     },
     "metadata": {
      "needs_background": "light"
     },
     "output_type": "display_data"
    }
   ],
   "source": [
    "xpoints = []\n",
    "ypoints = []\n",
    "\n",
    "for i in range(-5,6):\n",
    "    xpoints.append(i)\n",
    "    ypoints.append(i**2)\n",
    "    \n",
    "plt.plot(xpoints,ypoints)\n",
    "plt.show()"
   ]
  },
  {
   "cell_type": "code",
   "execution_count": 66,
   "id": "1ca02019",
   "metadata": {},
   "outputs": [
    {
     "data": {
      "image/png": "[encoded data removed]",
      "text/plain": [
       "<Figure size 432x288 with 1 Axes>"
      ]
     },
     "metadata": {
      "needs_background": "light"
     },
     "output_type": "display_data"
    }
   ],
   "source": [
    "xpoints = []\n",
    "ypoints = []\n",
    "\n",
    "for i in range(0,11):\n",
    "    xpoints.append(-5+i)\n",
    "    ypoints.append(np.sin(-5+i))\n",
    "    \n",
    "plt.plot(xpoints,ypoints)\n",
    "plt.show()"
   ]
  },
  {
   "cell_type": "code",
   "execution_count": 72,
   "id": "69880c57",
   "metadata": {},
   "outputs": [
    {
     "data": {
      "image/png": "[encoded data removed]",
      "text/plain": [
       "<Figure size 432x288 with 1 Axes>"
      ]
     },
     "metadata": {
      "needs_background": "light"
     },
     "output_type": "display_data"
    }
   ],
   "source": [
    "xpoints = []\n",
    "ypoints = []\n",
    "\n",
    "for i in range(0,110):\n",
    "    xpoints.append(-5+i/10)\n",
    "    ypoints.append(np.sin(-5+i/10))\n",
    "    \n",
    "plt.plot(xpoints,ypoints)\n",
    "plt.show()"
   ]
  },
  {
   "cell_type": "markdown",
   "id": "f2755578",
   "metadata": {},
   "source": [
    "Exercício: Criar uma função plota_seno(x0,xf,n), que plota o sin(x) entre x0 e xf com n pontos entre eles."
   ]
  },
  {
   "cell_type": "code",
   "execution_count": 73,
   "id": "9698bb5d",
   "metadata": {},
   "outputs": [
    {
     "ename": "IndentationError",
     "evalue": "expected an indented block (3382077090.py, line 1)",
     "output_type": "error",
     "traceback": [
      "\u001b[0;36m  Input \u001b[0;32mIn [73]\u001b[0;36m\u001b[0m\n\u001b[0;31m    def plota_seno(x0,xf,n):\u001b[0m\n\u001b[0m                            ^\u001b[0m\n\u001b[0;31mIndentationError\u001b[0m\u001b[0;31m:\u001b[0m expected an indented block\n"
     ]
    }
   ],
   "source": [
    "def plota_seno(x0,xf,n):"
   ]
  },
  {
   "cell_type": "code",
   "execution_count": null,
   "id": "f77a6cb4",
   "metadata": {},
   "outputs": [],
   "source": []
  }
 ],
 "metadata": {
  "kernelspec": {
   "display_name": "Python 3 (ipykernel)",
   "language": "python",
   "name": "python3"
  },
  "language_info": {
   "codemirror_mode": {
    "name": "ipython",
    "version": 3
   },
   "file_extension": ".py",
   "mimetype": "text/x-python",
   "name": "python",
   "nbconvert_exporter": "python",
   "pygments_lexer": "ipython3",
   "version": "3.9.12"
  }
 },
 "nbformat": 4,
 "nbformat_minor": 5
}
