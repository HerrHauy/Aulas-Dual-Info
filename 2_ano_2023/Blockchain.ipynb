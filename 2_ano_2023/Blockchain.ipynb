{
 "cells": [
  {
   "cell_type": "code",
   "execution_count": 1,
   "id": "360af625",
   "metadata": {},
   "outputs": [],
   "source": [
    "import hashlib"
   ]
  },
  {
   "cell_type": "markdown",
   "id": "e7c5d7ef",
   "metadata": {},
   "source": [
    "Com essa biblioteca podemos gerar hash para strings."
   ]
  },
  {
   "cell_type": "code",
   "execution_count": 12,
   "id": "e945c3cc",
   "metadata": {},
   "outputs": [
    {
     "data": {
      "text/plain": [
       "'38b8cc94144046fdd946db24036a7b3ae34a47b31947192784001c583f125309'"
      ]
     },
     "execution_count": 12,
     "metadata": {},
     "output_type": "execute_result"
    }
   ],
   "source": [
    "hashlib.sha256('Herlan é demais'.encode()).hexdigest()"
   ]
  },
  {
   "cell_type": "code",
   "execution_count": 17,
   "id": "469ee11e",
   "metadata": {},
   "outputs": [],
   "source": [
    "class LanCoin:\n",
    "    \n",
    "    def __init__(self, hash_anterior, lista_transacao):\n",
    "        \n",
    "        self.hash_anterior = hash_anterior\n",
    "        \n",
    "        self.lista_transacao = lista_transacao\n",
    "        \n",
    "        self.block_data = f\"{' - '.join(lista_transacao)} - {hash_anterior}\"\n",
    "        \n",
    "        self.block_hash = hashlib.sha256(self.block_data.encode()).hexdigest()"
   ]
  },
  {
   "cell_type": "markdown",
   "id": "16e282b9",
   "metadata": {},
   "source": [
    "Vamos criar algumas transações:"
   ]
  },
  {
   "cell_type": "code",
   "execution_count": 14,
   "id": "66587fe5",
   "metadata": {},
   "outputs": [],
   "source": [
    "t1 = \"Hauy envia 10 LAC para Guilherme\"\n",
    "t2 = \"Gabi envia 40 LAC para Davi\"\n",
    "t3 = \"Natan envia 5 LAC para Andrei\"\n",
    "t4 = \"Hauy envia 10 LAC para o grande Lan\""
   ]
  },
  {
   "cell_type": "markdown",
   "id": "11350d53",
   "metadata": {},
   "source": [
    "Vou criar o primeiro bloco da nossa criptomoeda. No caso do primeiro bloco definimos o hash inicial como algum parâmetro arbitrário."
   ]
  },
  {
   "cell_type": "code",
   "execution_count": 18,
   "id": "64b6ca10",
   "metadata": {},
   "outputs": [],
   "source": [
    "bloco1 = LanCoin(\"BlocoInicial\",[t1,t2])"
   ]
  },
  {
   "cell_type": "code",
   "execution_count": 20,
   "id": "f382e8a4",
   "metadata": {},
   "outputs": [
    {
     "name": "stdout",
     "output_type": "stream",
     "text": [
      "Dados do bloco 1: Hauy envia 10 LAC para Guilherme - Gabi envia 40 LAC para Davi - BlocoInicial\n",
      "Hash do bloco 1: ab5c15992d8b16c38051f24e45c4da7f5c6b7f6cfe567e345f23fff9ff6b48bf\n"
     ]
    }
   ],
   "source": [
    "print(f'Dados do bloco 1: {bloco1.block_data}')\n",
    "print(f'Hash do bloco 1: {bloco1.block_hash}')"
   ]
  },
  {
   "cell_type": "markdown",
   "id": "91964083",
   "metadata": {},
   "source": [
    "Vamos criar o segundo bloco da criptomoeda:"
   ]
  },
  {
   "cell_type": "code",
   "execution_count": 21,
   "id": "fb4fde2f",
   "metadata": {},
   "outputs": [
    {
     "name": "stdout",
     "output_type": "stream",
     "text": [
      "Dados do bloco 2: Natan envia 5 LAC para Andrei - Hauy envia 10 LAC para o grande Lan - ab5c15992d8b16c38051f24e45c4da7f5c6b7f6cfe567e345f23fff9ff6b48bf\n",
      "Hash do bloco 2: ee125080287d1cfbe8e3fd806ed20c0643df2e741b04d496a3c1227432396da2\n"
     ]
    }
   ],
   "source": [
    "bloco2 = LanCoin(bloco1.block_hash,[t3,t4])\n",
    "\n",
    "print(f'Dados do bloco 2: {bloco2.block_data}')\n",
    "print(f'Hash do bloco 2: {bloco2.block_hash}')"
   ]
  },
  {
   "cell_type": "markdown",
   "id": "4887b792",
   "metadata": {},
   "source": [
    "Agora precisamos criar uma classe que junte os blocos em uma cadeia, ou seja, uma Block Chain."
   ]
  },
  {
   "cell_type": "code",
   "execution_count": 29,
   "id": "e7ce69e9",
   "metadata": {},
   "outputs": [],
   "source": [
    "class BlockChain:\n",
    "    \n",
    "    def __init__(self):\n",
    "        self.chain = []\n",
    "        self.gerar_bloco_inicial()\n",
    "        \n",
    "    def gerar_bloco_inicial(self):\n",
    "        \n",
    "        self.chain.append(LanCoin('0',['Bloco Inicial']))\n",
    "        \n",
    "    def gerar_bloco_da_transacao(self, lista_transacao):\n",
    "        \n",
    "        hash_anterior = self.bloco_anterior.block_hash\n",
    "        self.chain.append(LanCoin(hash_anterior, lista_transacao))\n",
    "        \n",
    "    def mostrar_chain(self):\n",
    "        for i in range(len(self.chain)):\n",
    "            print(f\"Data {i+1}: {self.chain[i].block_data}\")\n",
    "            print(f\"Hash {i+1}: {self.chain[i].block_hash}\\n\")\n",
    "    \n",
    "    \n",
    "    @property\n",
    "    def bloco_anterior(self):\n",
    "        return self.chain[-1]"
   ]
  },
  {
   "cell_type": "markdown",
   "id": "079eb1ca",
   "metadata": {},
   "source": [
    "Teste do block chain:"
   ]
  },
  {
   "cell_type": "code",
   "execution_count": 30,
   "id": "656ea7bb",
   "metadata": {},
   "outputs": [],
   "source": [
    "t1 = \"Hauy envia 10 LAC para Guilherme\"\n",
    "t2 = \"Gabi envia 40 LAC para Davi\"\n",
    "t3 = \"Natan envia 5 LAC para Andrei\"\n",
    "t4 = \"Hauy envia 10 LAC para o grande Lan\"\n",
    "t5 = \"Andrei envia 10 LAC para Gabi\"\n",
    "t6 = \"Sven envia 10 LAC para Jan\""
   ]
  },
  {
   "cell_type": "code",
   "execution_count": 31,
   "id": "496ddb2f",
   "metadata": {},
   "outputs": [
    {
     "name": "stdout",
     "output_type": "stream",
     "text": [
      "Data 1: Bloco Inicial - 0\n",
      "Hash 1: b549850524d1efd23d48b05c7a87a97c2f64a6467b9d2c58c5ec2ca6394622dd\n",
      "\n",
      "Data 2: Hauy envia 10 LAC para Guilherme - Gabi envia 40 LAC para Davi - b549850524d1efd23d48b05c7a87a97c2f64a6467b9d2c58c5ec2ca6394622dd\n",
      "Hash 2: 21387c7325b193f814f96fae0cd65f4abd2fec440608955b02f707fa385b0ef6\n",
      "\n"
     ]
    }
   ],
   "source": [
    "lanchain = BlockChain()\n",
    "\n",
    "lanchain.gerar_bloco_da_transacao([t1,t2])\n",
    "\n",
    "lanchain.mostrar_chain()"
   ]
  },
  {
   "cell_type": "code",
   "execution_count": 32,
   "id": "f2e495b8",
   "metadata": {},
   "outputs": [
    {
     "name": "stdout",
     "output_type": "stream",
     "text": [
      "Data 1: Bloco Inicial - 0\n",
      "Hash 1: b549850524d1efd23d48b05c7a87a97c2f64a6467b9d2c58c5ec2ca6394622dd\n",
      "\n",
      "Data 2: Hauy envia 10 LAC para Guilherme - Gabi envia 40 LAC para Davi - b549850524d1efd23d48b05c7a87a97c2f64a6467b9d2c58c5ec2ca6394622dd\n",
      "Hash 2: 21387c7325b193f814f96fae0cd65f4abd2fec440608955b02f707fa385b0ef6\n",
      "\n",
      "Data 3: Natan envia 5 LAC para Andrei - Hauy envia 10 LAC para o grande Lan - 21387c7325b193f814f96fae0cd65f4abd2fec440608955b02f707fa385b0ef6\n",
      "Hash 3: 0d0be9f3617cb3f2718e2a016f69dea691fe4b8e7019a5a51a04b3c1d51b56be\n",
      "\n"
     ]
    }
   ],
   "source": [
    "lanchain.gerar_bloco_da_transacao([t3,t4])\n",
    "\n",
    "lanchain.mostrar_chain()"
   ]
  },
  {
   "cell_type": "code",
   "execution_count": 33,
   "id": "ff022bf3",
   "metadata": {},
   "outputs": [
    {
     "name": "stdout",
     "output_type": "stream",
     "text": [
      "Data 1: Bloco Inicial - 0\n",
      "Hash 1: b549850524d1efd23d48b05c7a87a97c2f64a6467b9d2c58c5ec2ca6394622dd\n",
      "\n",
      "Data 2: Hauy envia 10 LAC para Guilherme - Gabi envia 40 LAC para Davi - b549850524d1efd23d48b05c7a87a97c2f64a6467b9d2c58c5ec2ca6394622dd\n",
      "Hash 2: 21387c7325b193f814f96fae0cd65f4abd2fec440608955b02f707fa385b0ef6\n",
      "\n",
      "Data 3: Natan envia 5 LAC para Andrei - Hauy envia 10 LAC para o grande Lan - 21387c7325b193f814f96fae0cd65f4abd2fec440608955b02f707fa385b0ef6\n",
      "Hash 3: 0d0be9f3617cb3f2718e2a016f69dea691fe4b8e7019a5a51a04b3c1d51b56be\n",
      "\n",
      "Data 4: Andrei envia 10 LAC para Gabi - Sven envia 10 LAC para Jan - 0d0be9f3617cb3f2718e2a016f69dea691fe4b8e7019a5a51a04b3c1d51b56be\n",
      "Hash 4: aa8b250afa7157f034237e0dc5b364b9de04fd36fda67898bad2165917dc797e\n",
      "\n"
     ]
    }
   ],
   "source": [
    "lanchain.gerar_bloco_da_transacao([t5,t6])\n",
    "\n",
    "lanchain.mostrar_chain()"
   ]
  },
  {
   "cell_type": "code",
   "execution_count": null,
   "id": "d56fc55b",
   "metadata": {},
   "outputs": [],
   "source": []
  }
 ],
 "metadata": {
  "kernelspec": {
   "display_name": "Python 3 (ipykernel)",
   "language": "python",
   "name": "python3"
  },
  "language_info": {
   "codemirror_mode": {
    "name": "ipython",
    "version": 3
   },
   "file_extension": ".py",
   "mimetype": "text/x-python",
   "name": "python",
   "nbconvert_exporter": "python",
   "pygments_lexer": "ipython3",
   "version": "3.9.12"
  }
 },
 "nbformat": 4,
 "nbformat_minor": 5
}
