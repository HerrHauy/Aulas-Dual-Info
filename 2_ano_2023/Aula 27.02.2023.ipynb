{
 "cells": [
  {
   "cell_type": "markdown",
   "id": "0879cb9c",
   "metadata": {},
   "source": [
    "## Feature Scaling"
   ]
  },
  {
   "cell_type": "code",
   "execution_count": 11,
   "id": "bd7ab4b4",
   "metadata": {},
   "outputs": [],
   "source": [
    "import numpy as np\n",
    "import matplotlib.pyplot as plt"
   ]
  },
  {
   "cell_type": "code",
   "execution_count": 2,
   "id": "ac64d9be",
   "metadata": {},
   "outputs": [],
   "source": [
    "data = pd.read_csv('data.txt', sep=',', header=None)\n",
    "data.columns = ['ftq', 'room', 'price']"
   ]
  },
  {
   "cell_type": "code",
   "execution_count": 4,
   "id": "c91ae463",
   "metadata": {},
   "outputs": [
    {
     "data": {
      "text/html": [
       "<div>\n",
       "<style scoped>\n",
       "    .dataframe tbody tr th:only-of-type {\n",
       "        vertical-align: middle;\n",
       "    }\n",
       "\n",
       "    .dataframe tbody tr th {\n",
       "        vertical-align: top;\n",
       "    }\n",
       "\n",
       "    .dataframe thead th {\n",
       "        text-align: right;\n",
       "    }\n",
       "</style>\n",
       "<table border=\"1\" class=\"dataframe\">\n",
       "  <thead>\n",
       "    <tr style=\"text-align: right;\">\n",
       "      <th></th>\n",
       "      <th>ftq</th>\n",
       "      <th>room</th>\n",
       "      <th>price</th>\n",
       "    </tr>\n",
       "  </thead>\n",
       "  <tbody>\n",
       "    <tr>\n",
       "      <th>0</th>\n",
       "      <td>2104</td>\n",
       "      <td>3</td>\n",
       "      <td>399900</td>\n",
       "    </tr>\n",
       "    <tr>\n",
       "      <th>1</th>\n",
       "      <td>1600</td>\n",
       "      <td>3</td>\n",
       "      <td>329900</td>\n",
       "    </tr>\n",
       "    <tr>\n",
       "      <th>2</th>\n",
       "      <td>2400</td>\n",
       "      <td>3</td>\n",
       "      <td>369000</td>\n",
       "    </tr>\n",
       "    <tr>\n",
       "      <th>3</th>\n",
       "      <td>1416</td>\n",
       "      <td>2</td>\n",
       "      <td>232000</td>\n",
       "    </tr>\n",
       "    <tr>\n",
       "      <th>4</th>\n",
       "      <td>3000</td>\n",
       "      <td>4</td>\n",
       "      <td>539900</td>\n",
       "    </tr>\n",
       "  </tbody>\n",
       "</table>\n",
       "</div>"
      ],
      "text/plain": [
       "    ftq  room   price\n",
       "0  2104     3  399900\n",
       "1  1600     3  329900\n",
       "2  2400     3  369000\n",
       "3  1416     2  232000\n",
       "4  3000     4  539900"
      ]
     },
     "execution_count": 4,
     "metadata": {},
     "output_type": "execute_result"
    }
   ],
   "source": [
    "data.head()"
   ]
  },
  {
   "cell_type": "code",
   "execution_count": 9,
   "id": "3cb59bb3",
   "metadata": {},
   "outputs": [
    {
     "name": "stdout",
     "output_type": "stream",
     "text": [
      "Menor tamanho: 852 \n",
      " Maior tamanho: 4478 \n",
      " Menor n de quartos: 1 \n",
      " Maior n de quartos: 5\n"
     ]
    }
   ],
   "source": [
    "print(f'Menor tamanho: {data.ftq.min()} \\n Maior tamanho: {data.ftq.max()} \\n Menor n de quartos: {data.room.min()} \\n Maior n de quartos: {data.room.max()}')"
   ]
  },
  {
   "cell_type": "code",
   "execution_count": 13,
   "id": "87fd709c",
   "metadata": {},
   "outputs": [
    {
     "data": {
      "image/png": "[encoded data removed]",
      "text/plain": [
       "<Figure size 432x288 with 1 Axes>"
      ]
     },
     "metadata": {
      "needs_background": "light"
     },
     "output_type": "display_data"
    }
   ],
   "source": [
    "plt.scatter(data.ftq,data.room)\n",
    "plt.xlim(0,4500)\n",
    "plt.ylim(0,4500)\n",
    "plt.show()"
   ]
  },
  {
   "cell_type": "markdown",
   "id": "b0719911",
   "metadata": {},
   "source": [
    "$quartos=\\frac{quarto-media}{range}$"
   ]
  },
  {
   "cell_type": "code",
   "execution_count": 26,
   "id": "e5dc5883",
   "metadata": {},
   "outputs": [],
   "source": [
    "quartos = (np.array(data.room)-np.mean(data.room))/(np.max(data.room)-np.min(data.room))"
   ]
  },
  {
   "cell_type": "code",
   "execution_count": 27,
   "id": "4d57b943",
   "metadata": {},
   "outputs": [
    {
     "data": {
      "text/plain": [
       "array([-0.04255319, -0.04255319, -0.04255319, -0.29255319,  0.20744681,\n",
       "        0.20744681, -0.04255319, -0.04255319, -0.04255319, -0.04255319,\n",
       "        0.20744681, -0.04255319, -0.04255319,  0.45744681, -0.04255319,\n",
       "        0.20744681, -0.29255319, -0.04255319,  0.20744681,  0.20744681,\n",
       "       -0.04255319, -0.29255319, -0.04255319,  0.20744681, -0.04255319,\n",
       "       -0.04255319, -0.04255319, -0.04255319, -0.04255319, -0.04255319,\n",
       "       -0.29255319, -0.54255319,  0.20744681, -0.04255319,  0.20744681,\n",
       "       -0.04255319, -0.04255319,  0.20744681,  0.20744681,  0.20744681,\n",
       "       -0.29255319, -0.04255319,  0.20744681, -0.04255319, -0.29255319,\n",
       "        0.20744681, -0.04255319])"
      ]
     },
     "execution_count": 27,
     "metadata": {},
     "output_type": "execute_result"
    }
   ],
   "source": [
    "quartos"
   ]
  },
  {
   "cell_type": "code",
   "execution_count": 28,
   "id": "29da7c05",
   "metadata": {},
   "outputs": [],
   "source": [
    "tamanho = (np.array(data.ftq)-np.mean(data.ftq))/(np.max(data.ftq)-np.min(data.ftq))"
   ]
  },
  {
   "cell_type": "code",
   "execution_count": 29,
   "id": "78a2a14b",
   "metadata": {},
   "outputs": [
    {
     "data": {
      "text/plain": [
       "array([ 2.84939738e-02, -1.10502165e-01,  1.10126627e-01, -1.61246787e-01,\n",
       "        2.75598221e-01, -4.32455904e-03, -1.28704041e-01, -1.58213141e-01,\n",
       "       -1.71175083e-01, -1.39735480e-01, -1.67349286e-02, -1.87769185e-04,\n",
       "       -3.05242281e-02,  6.83209914e-01, -2.02063114e-01,  8.25480278e-02,\n",
       "       -1.87722242e-01, -2.10888266e-01,  1.67765899e-01,  2.84147587e-01,\n",
       "       -6.44459049e-02, -3.10758001e-02, -1.09399021e-01, -1.06676368e-02,\n",
       "        5.21047752e-01, -2.48395160e-01, -1.49663776e-01,  1.44875662e-01,\n",
       "        5.49694288e-02,  1.75487906e-01, -4.45893136e-02, -2.75973759e-01,\n",
       "        1.08436704e-02,  3.13380902e-01, -5.23113213e-02, -1.55455282e-01,\n",
       "       -2.10060908e-01,  3.62159815e-02,  6.10678199e-01,  4.44895612e-02,\n",
       "       -9.28518618e-02,  6.54492965e-02,  1.56182887e-01, -2.20816561e-01,\n",
       "       -3.16790086e-01, -4.10040957e-02, -2.19989203e-01])"
      ]
     },
     "execution_count": 29,
     "metadata": {},
     "output_type": "execute_result"
    }
   ],
   "source": [
    "tamanho"
   ]
  },
  {
   "cell_type": "code",
   "execution_count": 31,
   "id": "74dda5a5",
   "metadata": {},
   "outputs": [
    {
     "data": {
      "image/png": "[encoded data removed]",
      "text/plain": [
       "<Figure size 432x288 with 1 Axes>"
      ]
     },
     "metadata": {
      "needs_background": "light"
     },
     "output_type": "display_data"
    }
   ],
   "source": [
    "plt.scatter(tamanho,quartos)\n",
    "plt.xlim(-1,1)\n",
    "plt.ylim(-1,1)\n",
    "plt.show()"
   ]
  },
  {
   "cell_type": "markdown",
   "id": "f7b69975",
   "metadata": {},
   "source": [
    "Vamos aprender rapidamente a resolver sistemas lineares de equações.\n",
    "\n",
    "$$4x+3y=20$$\n",
    "$$-5x+9y=26$$"
   ]
  },
  {
   "cell_type": "code",
   "execution_count": 42,
   "id": "4c6800a9",
   "metadata": {},
   "outputs": [],
   "source": [
    "A=np.matrix([[4,3],[-5,9]])"
   ]
  },
  {
   "cell_type": "code",
   "execution_count": 43,
   "id": "e1dc7e0e",
   "metadata": {},
   "outputs": [],
   "source": [
    "B=np.matrix([[20],[26]])"
   ]
  },
  {
   "cell_type": "code",
   "execution_count": 39,
   "id": "c40bdaab",
   "metadata": {},
   "outputs": [],
   "source": [
    "X = np.dot(np.linalg.inv(A),B)"
   ]
  },
  {
   "cell_type": "code",
   "execution_count": 40,
   "id": "26f6718e",
   "metadata": {},
   "outputs": [
    {
     "data": {
      "text/plain": [
       "matrix([[2.],\n",
       "        [4.]])"
      ]
     },
     "execution_count": 40,
     "metadata": {},
     "output_type": "execute_result"
    }
   ],
   "source": [
    "X"
   ]
  },
  {
   "cell_type": "markdown",
   "id": "4befa0be",
   "metadata": {},
   "source": [
    "Para resolver um sistema linear de equações criamos então:"
   ]
  },
  {
   "cell_type": "code",
   "execution_count": 41,
   "id": "1f3c1b2b",
   "metadata": {},
   "outputs": [],
   "source": [
    "def linalg_solve(A,B):\n",
    "    return np.dot(np.linalg.inv(A),B)"
   ]
  },
  {
   "cell_type": "code",
   "execution_count": 44,
   "id": "4381af98",
   "metadata": {},
   "outputs": [
    {
     "data": {
      "text/plain": [
       "matrix([[2.],\n",
       "        [4.]])"
      ]
     },
     "execution_count": 44,
     "metadata": {},
     "output_type": "execute_result"
    }
   ],
   "source": [
    "linalg_solve(A,B)"
   ]
  },
  {
   "cell_type": "code",
   "execution_count": 47,
   "id": "a776fb7f",
   "metadata": {},
   "outputs": [],
   "source": [
    "A = np.matrix([[2,1,-1],[1,3,2],[3,-2,1]])\n",
    "B = np.matrix([[3],[4],[-5]])"
   ]
  },
  {
   "cell_type": "code",
   "execution_count": 48,
   "id": "cccc367b",
   "metadata": {},
   "outputs": [
    {
     "data": {
      "text/plain": [
       "matrix([[ 3.05311332e-16],\n",
       "        [ 2.00000000e+00],\n",
       "        [-1.00000000e+00]])"
      ]
     },
     "execution_count": 48,
     "metadata": {},
     "output_type": "execute_result"
    }
   ],
   "source": [
    "linalg_solve(A,B)"
   ]
  },
  {
   "cell_type": "code",
   "execution_count": null,
   "id": "2c57851d",
   "metadata": {},
   "outputs": [],
   "source": []
  }
 ],
 "metadata": {
  "kernelspec": {
   "display_name": "Python 3 (ipykernel)",
   "language": "python",
   "name": "python3"
  },
  "language_info": {
   "codemirror_mode": {
    "name": "ipython",
    "version": 3
   },
   "file_extension": ".py",
   "mimetype": "text/x-python",
   "name": "python",
   "nbconvert_exporter": "python",
   "pygments_lexer": "ipython3",
   "version": "3.9.12"
  }
 },
 "nbformat": 4,
 "nbformat_minor": 5
}
