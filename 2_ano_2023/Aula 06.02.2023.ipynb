{
 "cells": [
  {
   "cell_type": "markdown",
   "id": "2924cc37",
   "metadata": {},
   "source": [
    "# Orientação a Obejtos"
   ]
  },
  {
   "cell_type": "markdown",
   "id": "abcc7670",
   "metadata": {},
   "source": [
    "Representar alunos da sala:"
   ]
  },
  {
   "cell_type": "code",
   "execution_count": 2,
   "id": "9c98ed91",
   "metadata": {},
   "outputs": [],
   "source": [
    "davi = ['Davi Sandro', 19, 'boleiro', 11012234] #nome, idade, esporte, n de matrícula\n",
    "lan = ['Sr. Lan', 20, 'boleiro', 11012255]\n",
    "gabi = ['Gabi Santos', 18, 'natação', 11012228]\n",
    "guilherme = ['Guilherme',11012230]"
   ]
  },
  {
   "cell_type": "code",
   "execution_count": 4,
   "id": "4c188fba",
   "metadata": {},
   "outputs": [
    {
     "data": {
      "text/plain": [
       "11012230"
      ]
     },
     "execution_count": 4,
     "metadata": {},
     "output_type": "execute_result"
    }
   ],
   "source": [
    "guilherme[1]"
   ]
  },
  {
   "cell_type": "code",
   "execution_count": 5,
   "id": "026a2dc1",
   "metadata": {},
   "outputs": [
    {
     "data": {
      "text/plain": [
       "18"
      ]
     },
     "execution_count": 5,
     "metadata": {},
     "output_type": "execute_result"
    }
   ],
   "source": [
    "gabi[1]"
   ]
  },
  {
   "cell_type": "code",
   "execution_count": 6,
   "id": "0535e192",
   "metadata": {},
   "outputs": [
    {
     "data": {
      "text/plain": [
       "'boleiro'"
      ]
     },
     "execution_count": 6,
     "metadata": {},
     "output_type": "execute_result"
    }
   ],
   "source": [
    "lan[2]"
   ]
  },
  {
   "cell_type": "code",
   "execution_count": 8,
   "id": "e451bc32",
   "metadata": {},
   "outputs": [],
   "source": [
    "class Aluno:\n",
    "    \n",
    "    especie = 'homo sapiens sapiens' #Atributo de classe\n",
    "    \n",
    "    def __init__(self, nome, idade): #parâmetros da classe Aluno são nome e idade\n",
    "        self.nome = nome             #Define o nome do novo atributo e atribui o valor inserido em nome - atributo de instância\n",
    "        self.idade = idade"
   ]
  },
  {
   "cell_type": "markdown",
   "id": "3a7a6a64",
   "metadata": {},
   "source": [
    "Atributos criados no $__init__()$ (com dois underlines _ _ juntos) são chamados atributos de instância. \n",
    "\n",
    "Também temos atributos de classe. Esses são atributos que valem para todas as instâncias de uma classe."
   ]
  },
  {
   "cell_type": "markdown",
   "id": "a72c8df2",
   "metadata": {},
   "source": [
    "As vezes, algumas informações não são estritamente necessárias, não são obrigatórias. Todos os atributos não obrigatórios devem ficar juntos à direita."
   ]
  },
  {
   "cell_type": "code",
   "execution_count": 9,
   "id": "3ffb71b8",
   "metadata": {},
   "outputs": [],
   "source": [
    "class Aluno:\n",
    "    \n",
    "    especie = 'homo sapiens sapiens' #Atributo de classe\n",
    "    \n",
    "    def __init__(self, nome, idade, esporte = 'não especificado', matricula = 0): \n",
    "        self.nome = nome             \n",
    "        self.idade = idade\n",
    "        self.esporte = esporte\n",
    "        self.matricula = matricula\n",
    "        "
   ]
  },
  {
   "cell_type": "markdown",
   "id": "46bdc5b3",
   "metadata": {},
   "source": [
    "Vamos criar os primeiros alunos da classe."
   ]
  },
  {
   "cell_type": "code",
   "execution_count": 10,
   "id": "925efc4e",
   "metadata": {},
   "outputs": [
    {
     "data": {
      "text/plain": [
       "<__main__.Aluno at 0x7f853c6a91f0>"
      ]
     },
     "execution_count": 10,
     "metadata": {},
     "output_type": "execute_result"
    }
   ],
   "source": [
    "Aluno('Andrei', 18)"
   ]
  },
  {
   "cell_type": "markdown",
   "id": "01061902",
   "metadata": {},
   "source": [
    "Não é prático ter que digitar todo esse endereço de memória, por isso vamos salvar a instância em uma variável."
   ]
  },
  {
   "cell_type": "code",
   "execution_count": 11,
   "id": "c19275b4",
   "metadata": {},
   "outputs": [],
   "source": [
    "andrei = Aluno('Andrei', 18)"
   ]
  },
  {
   "cell_type": "code",
   "execution_count": 12,
   "id": "f106ad49",
   "metadata": {},
   "outputs": [
    {
     "data": {
      "text/plain": [
       "<__main__.Aluno at 0x7f853c6a9a30>"
      ]
     },
     "execution_count": 12,
     "metadata": {},
     "output_type": "execute_result"
    }
   ],
   "source": [
    "andrei"
   ]
  },
  {
   "cell_type": "code",
   "execution_count": 14,
   "id": "2f007368",
   "metadata": {},
   "outputs": [
    {
     "data": {
      "text/plain": [
       "18"
      ]
     },
     "execution_count": 14,
     "metadata": {},
     "output_type": "execute_result"
    }
   ],
   "source": [
    "andrei.idade"
   ]
  },
  {
   "cell_type": "code",
   "execution_count": 15,
   "id": "b118546e",
   "metadata": {},
   "outputs": [
    {
     "data": {
      "text/plain": [
       "19"
      ]
     },
     "execution_count": 15,
     "metadata": {},
     "output_type": "execute_result"
    }
   ],
   "source": [
    "davi[1]"
   ]
  },
  {
   "cell_type": "code",
   "execution_count": 30,
   "id": "410e7363",
   "metadata": {},
   "outputs": [],
   "source": [
    "natan = Aluno('natan',19, 'e-sports')"
   ]
  },
  {
   "cell_type": "code",
   "execution_count": 19,
   "id": "f518b01e",
   "metadata": {},
   "outputs": [
    {
     "data": {
      "text/plain": [
       "'e-sports'"
      ]
     },
     "execution_count": 19,
     "metadata": {},
     "output_type": "execute_result"
    }
   ],
   "source": [
    "natan.esporte"
   ]
  },
  {
   "cell_type": "code",
   "execution_count": 20,
   "id": "e789aca1",
   "metadata": {},
   "outputs": [
    {
     "data": {
      "text/plain": [
       "'não especificado'"
      ]
     },
     "execution_count": 20,
     "metadata": {},
     "output_type": "execute_result"
    }
   ],
   "source": [
    "andrei.esporte"
   ]
  },
  {
   "cell_type": "code",
   "execution_count": 21,
   "id": "1077b05d",
   "metadata": {},
   "outputs": [
    {
     "data": {
      "text/plain": [
       "'homo sapiens sapiens'"
      ]
     },
     "execution_count": 21,
     "metadata": {},
     "output_type": "execute_result"
    }
   ],
   "source": [
    "andrei.especie"
   ]
  },
  {
   "cell_type": "markdown",
   "id": "4b0133ae",
   "metadata": {},
   "source": [
    "Mais um ano se passa e vamos mudar as idades"
   ]
  },
  {
   "cell_type": "code",
   "execution_count": 22,
   "id": "17936e85",
   "metadata": {},
   "outputs": [],
   "source": [
    "natan.idade = 20"
   ]
  },
  {
   "cell_type": "code",
   "execution_count": 23,
   "id": "900102d0",
   "metadata": {},
   "outputs": [
    {
     "data": {
      "text/plain": [
       "20"
      ]
     },
     "execution_count": 23,
     "metadata": {},
     "output_type": "execute_result"
    }
   ],
   "source": [
    "natan.idade"
   ]
  },
  {
   "cell_type": "markdown",
   "id": "f93207a5",
   "metadata": {},
   "source": [
    "## Métodos de instância"
   ]
  },
  {
   "cell_type": "markdown",
   "id": "d88d59c7",
   "metadata": {},
   "source": [
    "Funções definidas dentro de uma classe que só podem ser chamadas por instâncias da classe."
   ]
  },
  {
   "cell_type": "code",
   "execution_count": 42,
   "id": "3461c6ab",
   "metadata": {},
   "outputs": [],
   "source": [
    "class Aluno:\n",
    "    \n",
    "    especie = 'homo sapiens sapiens' \n",
    "    \n",
    "    def __init__(self, nome, idade, esporte = 'não especificado', matricula = 0): \n",
    "        self.nome = nome             \n",
    "        self.idade = idade\n",
    "        self.esporte = esporte\n",
    "        self.matricula = matricula\n",
    "        \n",
    "    def descricao(self):\n",
    "        return f'{self.nome} tem {self.idade} anos e joga {self.esporte}. Seu número de matrícula é {self.matricula}'\n",
    "    \n",
    "    def diz(self, frase):\n",
    "        return f'{self.nome} diz em alto e bom som: {frase}'"
   ]
  },
  {
   "cell_type": "code",
   "execution_count": 43,
   "id": "f9da47cb",
   "metadata": {},
   "outputs": [
    {
     "name": "stdout",
     "output_type": "stream",
     "text": [
      "<__main__.Aluno object at 0x7f853c594dc0>\n"
     ]
    }
   ],
   "source": [
    "print(natan)"
   ]
  },
  {
   "cell_type": "code",
   "execution_count": 44,
   "id": "87a115ce",
   "metadata": {},
   "outputs": [],
   "source": [
    "natan = Aluno('natan',19, 'e-sports')"
   ]
  },
  {
   "cell_type": "code",
   "execution_count": 45,
   "id": "159b8f37",
   "metadata": {},
   "outputs": [
    {
     "data": {
      "text/plain": [
       "'natan tem 19 anos e joga e-sports. Seu número de matrícula é 0'"
      ]
     },
     "execution_count": 45,
     "metadata": {},
     "output_type": "execute_result"
    }
   ],
   "source": [
    "natan.descricao()"
   ]
  },
  {
   "cell_type": "code",
   "execution_count": 46,
   "id": "f1c73e89",
   "metadata": {},
   "outputs": [
    {
     "data": {
      "text/plain": [
       "'natan diz em alto e bom som: bah, que coisa mais legal.'"
      ]
     },
     "execution_count": 46,
     "metadata": {},
     "output_type": "execute_result"
    }
   ],
   "source": [
    "natan.diz('bah, que coisa mais legal.')"
   ]
  },
  {
   "cell_type": "markdown",
   "id": "634b68c2",
   "metadata": {},
   "source": [
    "Problema: A função print não funciona bem para a classe. Felizmente existe uma forma de se interferir com o print. Esse seria o método $__str__(self)$. "
   ]
  },
  {
   "cell_type": "code",
   "execution_count": 47,
   "id": "6b9f9b45",
   "metadata": {},
   "outputs": [],
   "source": [
    "class Aluno:\n",
    "    \n",
    "    especie = 'homo sapiens sapiens' \n",
    "    \n",
    "    def __init__(self, nome, idade, esporte = 'não especificado', matricula = 0): \n",
    "        self.nome = nome             \n",
    "        self.idade = idade\n",
    "        self.esporte = esporte\n",
    "        self.matricula = matricula\n",
    "        \n",
    "    def __str__(self):\n",
    "        return f'nome={self.nome} : idade={self.idade} : esporte={self.esporte} : matricula={self.matricula}'\n",
    "        \n",
    "    def descricao(self):\n",
    "        return f'{self.nome} tem {self.idade} anos e joga {self.esporte}. Seu número de matrícula é {self.matricula}'\n",
    "    \n",
    "    def diz(self, frase):\n",
    "        return f'{self.nome} diz em alto e bom som: {frase}'"
   ]
  },
  {
   "cell_type": "code",
   "execution_count": 48,
   "id": "d927850b",
   "metadata": {},
   "outputs": [],
   "source": [
    "natan = Aluno('natan',19, 'e-sports')"
   ]
  },
  {
   "cell_type": "code",
   "execution_count": 49,
   "id": "7f930fab",
   "metadata": {},
   "outputs": [
    {
     "name": "stdout",
     "output_type": "stream",
     "text": [
      "nome=natan : idade=19 : esporte=e-sports : matricula=0\n"
     ]
    }
   ],
   "source": [
    "print(natan)"
   ]
  },
  {
   "cell_type": "markdown",
   "id": "0b8ed362",
   "metadata": {},
   "source": [
    "Os métodos que começam e terminam com _ _ são chamados de \"Dunder Methods\".\n",
    "\n",
    "No caso do print, existe um dunder method que já fazia o que gostaríamos."
   ]
  },
  {
   "cell_type": "code",
   "execution_count": 50,
   "id": "47e9d3b4",
   "metadata": {},
   "outputs": [
    {
     "name": "stdout",
     "output_type": "stream",
     "text": [
      "<__main__.Aluno object at 0x7f853c6a9a30>\n"
     ]
    }
   ],
   "source": [
    "print(andrei)"
   ]
  },
  {
   "cell_type": "code",
   "execution_count": 51,
   "id": "427bd52f",
   "metadata": {},
   "outputs": [
    {
     "data": {
      "text/plain": [
       "{'nome': 'Andrei', 'idade': 18, 'esporte': 'não especificado', 'matricula': 0}"
      ]
     },
     "execution_count": 51,
     "metadata": {},
     "output_type": "execute_result"
    }
   ],
   "source": [
    "andrei.__dict__"
   ]
  },
  {
   "cell_type": "code",
   "execution_count": 52,
   "id": "60533aee",
   "metadata": {},
   "outputs": [
    {
     "data": {
      "text/plain": [
       "{'nome': 'natan', 'idade': 19, 'esporte': 'e-sports', 'matricula': 0}"
      ]
     },
     "execution_count": 52,
     "metadata": {},
     "output_type": "execute_result"
    }
   ],
   "source": [
    "natan.__dict__"
   ]
  },
  {
   "cell_type": "markdown",
   "id": "fc552adf",
   "metadata": {},
   "source": [
    "### Exercício: Crie uma classe cachorro na qual todas as instâncias tem a mesma espécie 'canis familiares' e cada instância da classe tem um nome, idade e raça. A classe deve ter dois métodos: um que customiza o comando print e um metodo para latir de forma diferente para cada cachorro."
   ]
  },
  {
   "cell_type": "code",
   "execution_count": 60,
   "id": "2d7d40ec",
   "metadata": {},
   "outputs": [],
   "source": [
    "class Cachorro:\n",
    "    \n",
    "    especie='canis familiaris'\n",
    "    \n",
    "    def __init__(self, nome, idade, raca):\n",
    "        self.nome = nome\n",
    "        self.idade = idade\n",
    "        self.raca = raca\n",
    "        \n",
    "    def __str__(self):\n",
    "        return f'{self.nome} tem {self.idade} anos'\n",
    "    \n",
    "    def late(self, som):\n",
    "        return f'{self.nome} late: {som}'"
   ]
  },
  {
   "cell_type": "markdown",
   "id": "2264c1e3",
   "metadata": {},
   "source": [
    "## Her(l)ança de classe em python"
   ]
  },
  {
   "cell_type": "markdown",
   "id": "69719f69",
   "metadata": {},
   "source": [
    "Classes mães e classes filhas para os cãezinhos."
   ]
  },
  {
   "cell_type": "code",
   "execution_count": 82,
   "id": "13bf1fea",
   "metadata": {},
   "outputs": [],
   "source": [
    "class ViralataCaramelo(Cachorro):\n",
    "    def late(self, som='AuAuAU! Eu não sou um animal!'):\n",
    "        return super().late(som)\n",
    "    \n",
    "    def __init__(self, nome, idade, raca='Viralata Caramelo'):\n",
    "        self.raca=raca\n",
    "        super().__init__(nome, idade,raca)\n"
   ]
  },
  {
   "cell_type": "code",
   "execution_count": 79,
   "id": "90eb053c",
   "metadata": {},
   "outputs": [],
   "source": [
    "juquinha = ViralataCaramelo('Juquinha', 2, 'viralata caramelo')"
   ]
  },
  {
   "cell_type": "code",
   "execution_count": 74,
   "id": "0b64eabe",
   "metadata": {},
   "outputs": [
    {
     "data": {
      "text/plain": [
       "'canis familiaris'"
      ]
     },
     "execution_count": 74,
     "metadata": {},
     "output_type": "execute_result"
    }
   ],
   "source": [
    "juquinha.especie"
   ]
  },
  {
   "cell_type": "code",
   "execution_count": 75,
   "id": "30bd117e",
   "metadata": {},
   "outputs": [
    {
     "data": {
      "text/plain": [
       "'Juquinha late: AuAuAU! Eu não sou um animal!'"
      ]
     },
     "execution_count": 75,
     "metadata": {},
     "output_type": "execute_result"
    }
   ],
   "source": [
    "juquinha.late()"
   ]
  },
  {
   "cell_type": "code",
   "execution_count": 83,
   "id": "d605de1a",
   "metadata": {
    "scrolled": false
   },
   "outputs": [],
   "source": [
    "gustavo = ViralataCaramelo('Gustavo', 2)"
   ]
  },
  {
   "cell_type": "code",
   "execution_count": 84,
   "id": "5f415b50",
   "metadata": {},
   "outputs": [
    {
     "data": {
      "text/plain": [
       "'Viralata Caramelo'"
      ]
     },
     "execution_count": 84,
     "metadata": {},
     "output_type": "execute_result"
    }
   ],
   "source": [
    "gustavo.raca"
   ]
  },
  {
   "cell_type": "markdown",
   "id": "9c0b65e8",
   "metadata": {},
   "source": [
    "## Rapidamente agora sobre dicionários"
   ]
  },
  {
   "cell_type": "code",
   "execution_count": 86,
   "id": "31d44e7a",
   "metadata": {},
   "outputs": [],
   "source": [
    "meu_carro = {\n",
    "    'marca':'BMW',\n",
    "    'modelo':'X7',\n",
    "    'ano': 2023\n",
    "}"
   ]
  },
  {
   "cell_type": "code",
   "execution_count": 90,
   "id": "946e0c96",
   "metadata": {},
   "outputs": [
    {
     "data": {
      "text/plain": [
       "'X7'"
      ]
     },
     "execution_count": 90,
     "metadata": {},
     "output_type": "execute_result"
    }
   ],
   "source": [
    "meu_carro['modelo']"
   ]
  },
  {
   "cell_type": "code",
   "execution_count": null,
   "id": "5a350024",
   "metadata": {},
   "outputs": [],
   "source": []
  }
 ],
 "metadata": {
  "kernelspec": {
   "display_name": "Python 3 (ipykernel)",
   "language": "python",
   "name": "python3"
  },
  "language_info": {
   "codemirror_mode": {
    "name": "ipython",
    "version": 3
   },
   "file_extension": ".py",
   "mimetype": "text/x-python",
   "name": "python",
   "nbconvert_exporter": "python",
   "pygments_lexer": "ipython3",
   "version": "3.9.12"
  }
 },
 "nbformat": 4,
 "nbformat_minor": 5
}
